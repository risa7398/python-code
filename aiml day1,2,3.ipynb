{
 "cells": [
  {
   "cell_type": "code",
   "execution_count": 1,
   "id": "fbc681bb-38f1-4b54-af15-f0310998cd3d",
   "metadata": {},
   "outputs": [
    {
     "name": "stdout",
     "output_type": "stream",
     "text": [
      "hello\n"
     ]
    }
   ],
   "source": [
    "print(\"hello\")"
   ]
  },
  {
   "cell_type": "code",
   "execution_count": 8,
   "id": "f0ebb601-d082-48ca-8484-ae9eeb72ce8a",
   "metadata": {},
   "outputs": [
    {
     "name": "stdout",
     "output_type": "stream",
     "text": [
      "7\n",
      "<class 'int'>\n",
      "3.5\n",
      "<class 'float'>\n",
      "s\n",
      "<class 'str'>\n",
      "[5, 9]\n",
      "<class 'list'>\n",
      "(3, 9)\n",
      "<class 'tuple'>\n",
      "{1: 'etduytv', 2: 'eithgu'}\n",
      "<class 'dict'>\n",
      "range(1, 10)\n",
      "<class 'range'>\n"
     ]
    }
   ],
   "source": [
    "a=7\n",
    "print((a))\n",
    "print(type(a))\n",
    "\n",
    "a=3.5\n",
    "print((a))\n",
    "print(type(a))\n",
    "\n",
    "a=\"s\"\n",
    "print((a))\n",
    "print(type(a))\n",
    "\n",
    "a=[5,9]\n",
    "print((a))\n",
    "print(type(a))\n",
    "\n",
    "a=(3,9)\n",
    "print((a))\n",
    "print(type(a))\n",
    "\n",
    "a={1:\"etduytv\",2:\"eithgu\"}\n",
    "print((a))\n",
    "print(type(a))\n",
    "\n",
    "a=range(1,10)\n",
    "print((a))\n",
    "print(type(a))"
   ]
  },
  {
   "cell_type": "code",
   "execution_count": 10,
   "id": "56e7a78b-ff37-4ec2-98f7-385e9bffc720",
   "metadata": {},
   "outputs": [
    {
     "name": "stdout",
     "output_type": "stream",
     "text": [
      "abcdefg hijklm nopqrst mope\n",
      "abcdefghijklmnopqrstmope\n"
     ]
    }
   ],
   "source": [
    "a=\"abcdefg\"\n",
    "b=\"hijklm\"\n",
    "c=\"nopqrst\"\n",
    "print(a,b,c,\"mope\")\n",
    "print(a+b+c+\"mope\")"
   ]
  },
  {
   "cell_type": "code",
   "execution_count": 13,
   "id": "ec33fefd-32f2-448f-957f-6312b8ef7211",
   "metadata": {},
   "outputs": [
    {
     "name": "stdin",
     "output_type": "stream",
     "text": [
      " 5.5\n"
     ]
    },
    {
     "name": "stdout",
     "output_type": "stream",
     "text": [
      "5.5\n",
      "<class 'str'>\n"
     ]
    }
   ],
   "source": [
    "a=input()\n",
    "print(a)\n",
    "print(type(a))"
   ]
  },
  {
   "cell_type": "code",
   "execution_count": 14,
   "id": "7305c9f7-baa3-490b-9486-aaba2d235e5e",
   "metadata": {},
   "outputs": [
    {
     "name": "stdin",
     "output_type": "stream",
     "text": [
      " 7\n",
      " 5\n"
     ]
    },
    {
     "name": "stdout",
     "output_type": "stream",
     "text": [
      "75\n",
      "<class 'str'>\n",
      "<class 'str'>\n",
      "<class 'str'>\n"
     ]
    }
   ],
   "source": [
    "a=input()\n",
    "b=input()\n",
    "c=a+b\n",
    "print(c)\n",
    "print(type(a))\n",
    "print(type(b))\n",
    "print(type(c))"
   ]
  },
  {
   "cell_type": "code",
   "execution_count": 15,
   "id": "2bf371f9-e94a-42dd-af0a-28f2d54c841c",
   "metadata": {},
   "outputs": [
    {
     "name": "stdin",
     "output_type": "stream",
     "text": [
      " 5\n",
      " 7\n"
     ]
    },
    {
     "name": "stdout",
     "output_type": "stream",
     "text": [
      "12\n",
      "<class 'int'>\n",
      "<class 'int'>\n",
      "<class 'int'>\n"
     ]
    }
   ],
   "source": [
    "a=int(input())\n",
    "b=int(input())\n",
    "c=a+b\n",
    "print(c)\n",
    "print(type(a))\n",
    "print(type(b))\n",
    "print(type(c))"
   ]
  },
  {
   "cell_type": "code",
   "execution_count": 16,
   "id": "54c6ca1c-c164-4a56-a75c-8ea23d4bdca7",
   "metadata": {},
   "outputs": [
    {
     "name": "stdin",
     "output_type": "stream",
     "text": [
      "Enter the first number 6\n",
      "Enter the first number 8\n"
     ]
    },
    {
     "name": "stdout",
     "output_type": "stream",
     "text": [
      "14\n"
     ]
    }
   ],
   "source": [
    "a=int(input(\"Enter the first number\"))\n",
    "b=int(input(\"Enter the first number\"))\n",
    "c=a+b\n",
    "print(c)"
   ]
  },
  {
   "cell_type": "code",
   "execution_count": 21,
   "id": "32b280e2-6016-4053-a3d7-5e520562ac5a",
   "metadata": {},
   "outputs": [
    {
     "name": "stdin",
     "output_type": "stream",
     "text": [
      "Enter the three number: 4 5 6\n"
     ]
    },
    {
     "name": "stdout",
     "output_type": "stream",
     "text": [
      "456\n"
     ]
    }
   ],
   "source": [
    "a,b,c=input(\"Enter the three number:\").split()\n",
    "d=a+b+c\n",
    "print(d)"
   ]
  },
  {
   "cell_type": "code",
   "execution_count": null,
   "id": "37a6fea2-e7f6-49aa-9da7-e5fb81ef4984",
   "metadata": {},
   "outputs": [],
   "source": [
    "day 2"
   ]
  },
  {
   "cell_type": "code",
   "execution_count": 6,
   "id": "c1e3c1b0-1079-4c19-86ea-06fa91bfc511",
   "metadata": {},
   "outputs": [
    {
     "ename": "SyntaxError",
     "evalue": "expected ':' (545761130.py, line 4)",
     "output_type": "error",
     "traceback": [
      "\u001b[1;36m  Cell \u001b[1;32mIn[6], line 4\u001b[1;36m\u001b[0m\n\u001b[1;33m    if(a>=18)\u001b[0m\n\u001b[1;37m             ^\u001b[0m\n\u001b[1;31mSyntaxError\u001b[0m\u001b[1;31m:\u001b[0m expected ':'\n"
     ]
    }
   ],
   "source": [
    "a= age\n",
    "printf(\"enter the age\")\n",
    "scanf(\"%s\",age)\n",
    "if(a>=18)\n",
    "print(\"eligible to vote\")\n",
    "else\n",
    "print(\"not eligible to vote\")\n",
    "    "
   ]
  },
  {
   "cell_type": "code",
   "execution_count": 8,
   "id": "39156565-9940-4a58-be64-252f3397761a",
   "metadata": {},
   "outputs": [
    {
     "name": "stdin",
     "output_type": "stream",
     "text": [
      "Enter the name : sushmita\n",
      "Enter your age: 20\n"
     ]
    },
    {
     "name": "stdout",
     "output_type": "stream",
     "text": [
      "sushmita\n",
      "You are elegible\n"
     ]
    }
   ],
   "source": [
    "name=input(\"Enter the name :\")\n",
    "age=int(input(\"Enter your age:\"))\n",
    "\n",
    "if age>=18:\n",
    "    print(name)\n",
    "    print(\"You are elegible\")\n",
    "else:\n",
    "    print(name)\n",
    "    print(\"You are not elegible\")\n",
    "    "
   ]
  },
  {
   "cell_type": "code",
   "execution_count": 16,
   "id": "a36f6149-b6d1-485f-a4cc-ad338d2d414c",
   "metadata": {},
   "outputs": [
    {
     "name": "stdin",
     "output_type": "stream",
     "text": [
      "Enter the name : risa\n",
      "Enter your age: 16\n"
     ]
    },
    {
     "name": "stdout",
     "output_type": "stream",
     "text": [
      "risa\n",
      "You are not elegible\n"
     ]
    }
   ],
   "source": [
    "name=input(\"Enter the name :\")\n",
    "age=int(input(\"Enter your age:\"))\n",
    "\n",
    "if (age>=18):\n",
    "    print(name)\n",
    "    print(\"You are elegible\")\n",
    "else:\n",
    "    print(name)\n",
    "    print(\"You are not elegible\")   "
   ]
  },
  {
   "cell_type": "code",
   "execution_count": 21,
   "id": "af70f54d-d2be-43ae-96e0-b39700d04784",
   "metadata": {},
   "outputs": [
    {
     "name": "stdin",
     "output_type": "stream",
     "text": [
      " 6\n",
      " 9\n"
     ]
    },
    {
     "name": "stdout",
     "output_type": "stream",
     "text": [
      "b is the largest\n"
     ]
    }
   ],
   "source": [
    "a=int(input())\n",
    "b=int(input())\n",
    "if a>b:\n",
    "    print(\"a is the largest\")\n",
    "else:\n",
    "    print(\"b is the largest\")"
   ]
  },
  {
   "cell_type": "code",
   "execution_count": 39,
   "id": "da595e76-2fee-4a22-b3f9-6942e96e8c2d",
   "metadata": {},
   "outputs": [
    {
     "name": "stdin",
     "output_type": "stream",
     "text": [
      " 4\n",
      " 5\n",
      " 6\n"
     ]
    },
    {
     "name": "stdout",
     "output_type": "stream",
     "text": [
      "c is largest\n"
     ]
    }
   ],
   "source": [
    "sus=int(input())\n",
    "mon=int(input())\n",
    "muk=int(input())\n",
    "if a>b:\n",
    "    if a<c:\n",
    "        print(\"a is largest\")\n",
    "    else:\n",
    "        print(\"c is largest\")\n",
    "else:\n",
    "    if b>c:\n",
    "        print(\"b is largest\")\n",
    "    else:\n",
    "        print(\"c is largest\")\n",
    "\n"
   ]
  },
  {
   "cell_type": "code",
   "execution_count": 25,
   "id": "a3556936-86c5-4280-8ad7-9aebdbda7524",
   "metadata": {},
   "outputs": [
    {
     "name": "stdin",
     "output_type": "stream",
     "text": [
      " 9\n",
      " 3\n",
      " 5\n"
     ]
    },
    {
     "name": "stdout",
     "output_type": "stream",
     "text": [
      "a is largest\n"
     ]
    }
   ],
   "source": [
    "a=int(input())\n",
    "b=int(input())\n",
    "c=int(input())\n",
    "if a>b:\n",
    "    if a>c:\n",
    "        print(\"a is largest\")\n",
    "    else:\n",
    "        print(\"c is largest\")\n",
    "else:\n",
    "    if b>c:\n",
    "        print(\"b is largest\")\n",
    "    else:\n",
    "        print(\"c is largest\")"
   ]
  },
  {
   "cell_type": "code",
   "execution_count": 41,
   "id": "84498ba3-5b91-4c9b-b5eb-fdf4427d994a",
   "metadata": {},
   "outputs": [
    {
     "ename": "IndentationError",
     "evalue": "unindent does not match any outer indentation level (<string>, line 10)",
     "output_type": "error",
     "traceback": [
      "\u001b[1;36m  File \u001b[1;32m<string>:10\u001b[1;36m\u001b[0m\n\u001b[1;33m    else:\u001b[0m\n\u001b[1;37m         ^\u001b[0m\n\u001b[1;31mIndentationError\u001b[0m\u001b[1;31m:\u001b[0m unindent does not match any outer indentation level\n"
     ]
    }
   ],
   "source": [
    "a=int(input())\n",
    "b=int(input())\n",
    "c=int(input())\n",
    "d=int(input())\n",
    "if a>d:\n",
    "    if a>b:\n",
    "        print(\"a is largest\")\n",
    "      else:\n",
    "        print(\"b is largest\")\n",
    "       else:\n",
    "           if a>c:\n",
    "              print(\"a is largest\")\n",
    "         else:\n",
    "             print(\"c is largest\")\n",
    "else:\n",
    "  if d>b:\n",
    "       print(\"d is largest\")\n",
    "     else:\n",
    "       print(\"b is largest\")\n",
    "        else:\n",
    "           if d>c:\n",
    "              print(\"d is largest\")\n",
    "                 else:\n",
    "                    print(\"c is largest\")"
   ]
  },
  {
   "cell_type": "code",
   "execution_count": 11,
   "id": "f0117281-9031-431b-bba3-10d8e83392ac",
   "metadata": {},
   "outputs": [
    {
     "name": "stdin",
     "output_type": "stream",
     "text": [
      "Enter your marks: 86\n"
     ]
    },
    {
     "name": "stdout",
     "output_type": "stream",
     "text": [
      "Grade =A\n"
     ]
    }
   ],
   "source": [
    "marks=int(input(\"Enter your marks:\"))\n",
    "if marks>=90 and marks<=100:\n",
    "    print(\"Grade =A+\")\n",
    "else:\n",
    "     if marks>=80 and marks<90:\n",
    "         print(\"Grade =A\")\n",
    "     else:\n",
    "         if marks>=70 and marks<80:\n",
    "             print(\"Grade =B\")\n",
    "         else:\n",
    "             if marks>=60 and marks<70:\n",
    "                 print(\"Grade =B+\")\n",
    "             else:\n",
    "                 if marks>=50 and marks<60:\n",
    "                     print(\"Grade =C\")\n",
    "                 else:\n",
    "                     if marks>=40 and marks<50:\n",
    "                         print(\"Grade =D\")\n",
    "                     else:\n",
    "                         if marks>=30 and marks<40:\n",
    "                             print(\"Grade =E\")\n",
    "                         else:\n",
    "                             if marks>=20 and marks<30:\n",
    "                                 print(\"Grade =F\");\n",
    "                             else:\n",
    "                                 print(\"Invalid marks\")\n",
    "             \n",
    "        \n"
   ]
  },
  {
   "cell_type": "code",
   "execution_count": 13,
   "id": "15160e6c-9e90-4bdf-a6ec-2c7990a1ffef",
   "metadata": {},
   "outputs": [
    {
     "name": "stdin",
     "output_type": "stream",
     "text": [
      "Enter the day number: 6\n"
     ]
    },
    {
     "name": "stdout",
     "output_type": "stream",
     "text": [
      "friday\n"
     ]
    }
   ],
   "source": [
    "day=int(input(\"Enter the day number:\"))\n",
    "\n",
    "match day:\n",
    "        case 1:print(\"sunday\")\n",
    "        case 2:print(\"monday\")\n",
    "        case 3:print(\"tuesday\")\n",
    "        case 4:print(\"wednesday\")\n",
    "        case 5:print(\"thursday\")\n",
    "        case 6:print(\"friday\")\n",
    "        case 7:print(\"saturday\")"
   ]
  },
  {
   "cell_type": "code",
   "execution_count": 15,
   "id": "ea245181-2e86-48be-951c-42cd27d27177",
   "metadata": {},
   "outputs": [
    {
     "name": "stdout",
     "output_type": "stream",
     "text": [
      "0\n",
      "1\n",
      "2\n",
      "3\n",
      "4\n",
      "5\n",
      "6\n",
      "7\n",
      "8\n",
      "9\n",
      "0\n",
      "1\n",
      "2\n",
      "3\n",
      "4\n",
      "5\n",
      "6\n",
      "7\n",
      "8\n",
      "9\n"
     ]
    }
   ],
   "source": [
    "x=0\n",
    "while x<10:\n",
    "    print(x)\n",
    "    x=x+1\n",
    "\n",
    "for y in range(0,10):\n",
    "    print(y)\n",
    "    "
   ]
  },
  {
   "cell_type": "code",
   "execution_count": 19,
   "id": "2409983b-22a7-4aba-9607-6a3b40b74950",
   "metadata": {},
   "outputs": [
    {
     "name": "stdout",
     "output_type": "stream",
     "text": [
      "0\n",
      "1\n",
      "2\n",
      "3\n",
      "4\n",
      "5\n",
      "6\n",
      "7\n",
      "8\n",
      "9\n",
      "0  1\n",
      "0  2\n",
      "0  3\n",
      "0  4\n",
      "0  5\n",
      "0  6\n",
      "0  7\n",
      "0  8\n",
      "0  9\n",
      "1  1\n",
      "1  2\n",
      "1  3\n",
      "1  4\n",
      "1  5\n",
      "1  6\n",
      "1  7\n",
      "1  8\n",
      "1  9\n",
      "2  1\n",
      "2  2\n",
      "2  3\n",
      "2  4\n",
      "2  5\n",
      "2  6\n",
      "2  7\n",
      "2  8\n",
      "2  9\n",
      "3  1\n",
      "3  2\n",
      "3  3\n",
      "3  4\n",
      "3  5\n",
      "3  6\n",
      "3  7\n",
      "3  8\n",
      "3  9\n",
      "4  1\n",
      "4  2\n",
      "4  3\n",
      "4  4\n",
      "4  5\n",
      "4  6\n",
      "4  7\n",
      "4  8\n",
      "4  9\n",
      "5  1\n",
      "5  2\n",
      "5  3\n",
      "5  4\n",
      "5  5\n",
      "5  6\n",
      "5  7\n",
      "5  8\n",
      "5  9\n",
      "6  1\n",
      "6  2\n",
      "6  3\n",
      "6  4\n",
      "6  5\n",
      "6  6\n",
      "6  7\n",
      "6  8\n",
      "6  9\n",
      "7  1\n",
      "7  2\n",
      "7  3\n",
      "7  4\n",
      "7  5\n",
      "7  6\n",
      "7  7\n",
      "7  8\n",
      "7  9\n",
      "8  1\n",
      "8  2\n",
      "8  3\n",
      "8  4\n",
      "8  5\n",
      "8  6\n",
      "8  7\n",
      "8  8\n",
      "8  9\n",
      "9  1\n",
      "9  2\n",
      "9  3\n",
      "9  4\n",
      "9  5\n",
      "9  6\n",
      "9  7\n",
      "9  8\n",
      "9  9\n"
     ]
    }
   ],
   "source": [
    "x=0\n",
    "while x<10:\n",
    "    print(x)\n",
    "    x=x+1\n",
    "\n",
    "for y in range(0,10):\n",
    "    for x in range(1,10):\n",
    "        print(y,\"\",x)"
   ]
  },
  {
   "cell_type": "code",
   "execution_count": 5,
   "id": "60b18fc8-b7f1-4ffa-95e7-ad754fdba2a2",
   "metadata": {},
   "outputs": [
    {
     "name": "stdout",
     "output_type": "stream",
     "text": [
      "*\n",
      "**\n",
      "***\n",
      "****\n",
      "*****\n",
      "******\n",
      "*******\n",
      "********\n",
      "*********\n",
      "**********\n"
     ]
    }
   ],
   "source": [
    "for y in range(0,10):\n",
    "    for x in range(0,y+1):\n",
    "        print(\"*\",end=\"\")\n",
    "    print()"
   ]
  },
  {
   "cell_type": "code",
   "execution_count": 12,
   "id": "19307a9e-2b97-4e17-93e8-b29e1abd5c31",
   "metadata": {},
   "outputs": [
    {
     "name": "stdin",
     "output_type": "stream",
     "text": [
      "enter the limits 5\n"
     ]
    },
    {
     "name": "stdout",
     "output_type": "stream",
     "text": [
      "0\n",
      "1\n",
      "2\n",
      "3\n"
     ]
    }
   ],
   "source": [
    "fib=int(input(\"enter the limits\"))\n",
    "for i in range(0,n-2):\n",
    "    print(i)\n",
    "if n==0:\n",
    "        print(fib(i-1)+fib(i-2))\n",
    "if n==1:\n",
    "    print"
   ]
  },
  {
   "cell_type": "code",
   "execution_count": 20,
   "id": "d259efc5-e0dd-4a41-8688-cbd6838c30b6",
   "metadata": {},
   "outputs": [
    {
     "name": "stdin",
     "output_type": "stream",
     "text": [
      "Enter the length of series: 10\n"
     ]
    },
    {
     "name": "stdout",
     "output_type": "stream",
     "text": [
      "1 2 3 5 8 13 21 34 "
     ]
    }
   ],
   "source": [
    "a=0\n",
    "b=1\n",
    "n=int(input(\"Enter the length of series:\"))\n",
    "\n",
    "\n",
    "for x in range(0,n-2):\n",
    "    c=a+b\n",
    "    print(c,end=\" \")\n",
    "    a=b\n",
    "    b=c\n"
   ]
  },
  {
   "cell_type": "code",
   "execution_count": 1,
   "id": "f4261a10-7c66-4156-bd77-97214fdf17c5",
   "metadata": {},
   "outputs": [
    {
     "name": "stdout",
     "output_type": "stream",
     "text": [
      "2\n",
      "5\n",
      "8\n",
      "1.3\n",
      "5.5\n",
      "s\n",
      "a\n"
     ]
    }
   ],
   "source": [
    "list=[2,5,8,1.3,5.5,\"s\",\"a\"]\n",
    "for a in range(0,7):\n",
    "    print(list[a])"
   ]
  },
  {
   "cell_type": "code",
   "execution_count": null,
   "id": "3f09912e-8d70-468b-84e5-0fc0957c089b",
   "metadata": {},
   "outputs": [],
   "source": [
    "day 3"
   ]
  },
  {
   "cell_type": "markdown",
   "id": "46c241ab-6d0d-420e-9a4d-3155d32d4f57",
   "metadata": {},
   "source": [
    "list of commands\n",
    "def append(self:seif@\n",
    "def extend(self:Self@list[_T@\n",
    "def pop(self:Self@list[_T@list],index:SupportsIndex=-1,/\n",
    "value:_T@list,\n",
    "stop\n",
    "def pop(self:Self@list[_T@list],\n",
    "value:SupportsIndex=-1,/\n",
    "def sort(self:Self@list[SupportsRichComparisonT@sort],index:SupportsIndex\n",
    "object:_T@list\n",
    "def remove(self:list[_T@list],index:SupportsIndex\n",
    "object:_T@list\n",
    "def insert(self:Self@list[_T@list],index:SupportsIndex\n",
    "object:_T@list\n",
    "\n",
    "\n"
   ]
  },
  {
   "cell_type": "code",
   "execution_count": 2,
   "id": "6e170fc4-c9ed-4e59-9b1f-7cd403f767b4",
   "metadata": {},
   "outputs": [
    {
     "name": "stdout",
     "output_type": "stream",
     "text": [
      "[1, 2, 3, 4, 5]\n"
     ]
    }
   ],
   "source": [
    "a=[1,2,3,4,5]\n",
    "b=a.copy()\n",
    "print(b)\n"
   ]
  },
  {
   "cell_type": "code",
   "execution_count": 3,
   "id": "f721e2d8-fc7b-4b15-bcc2-58fad387cdc6",
   "metadata": {},
   "outputs": [
    {
     "name": "stdout",
     "output_type": "stream",
     "text": [
      "4\n"
     ]
    }
   ],
   "source": [
    "c=b.pop(3)\n",
    "print(c)\n"
   ]
  },
  {
   "cell_type": "code",
   "execution_count": 4,
   "id": "6aa9b319-a24c-4d8d-ab86-c75beaf280eb",
   "metadata": {},
   "outputs": [
    {
     "name": "stdout",
     "output_type": "stream",
     "text": [
      "[1, 2, 3, 5]\n"
     ]
    }
   ],
   "source": [
    "print(b)\n",
    "b.append(10)\n",
    "b.append(7)\n",
    "b.append(3)"
   ]
  },
  {
   "cell_type": "code",
   "execution_count": 8,
   "id": "d1d3cd7d-6043-4135-971c-a3cb3b8084dd",
   "metadata": {},
   "outputs": [
    {
     "name": "stdout",
     "output_type": "stream",
     "text": [
      "[10, 9, 9, 7, 5, 2, 1]\n"
     ]
    },
    {
     "ename": "ValueError",
     "evalue": "3 is not in list",
     "output_type": "error",
     "traceback": [
      "\u001b[1;31m---------------------------------------------------------------------------\u001b[0m",
      "\u001b[1;31mValueError\u001b[0m                                Traceback (most recent call last)",
      "Cell \u001b[1;32mIn[8], line 2\u001b[0m\n\u001b[0;32m      1\u001b[0m \u001b[38;5;28mprint\u001b[39m(b)\n\u001b[1;32m----> 2\u001b[0m \u001b[38;5;28mprint\u001b[39m(\u001b[43mb\u001b[49m\u001b[38;5;241;43m.\u001b[39;49m\u001b[43mindex\u001b[49m\u001b[43m(\u001b[49m\u001b[38;5;241;43m3\u001b[39;49m\u001b[43m)\u001b[49m)\n\u001b[0;32m      4\u001b[0m \u001b[38;5;28mprint\u001b[39m(b\u001b[38;5;241m.\u001b[39mcount(\u001b[38;5;241m3\u001b[39m))\n\u001b[0;32m      6\u001b[0m \u001b[38;5;28mprint\u001b[39m(b\u001b[38;5;241m.\u001b[39mcount(\u001b[38;5;241m10\u001b[39m))\n",
      "\u001b[1;31mValueError\u001b[0m: 3 is not in list"
     ]
    }
   ],
   "source": [
    "print(b)\n",
    "print(b.index(3))\n",
    "\n",
    "print(b.count(3))\n",
    "\n",
    "print(b.count(10))\n",
    "\n",
    "b.insert(4,9)\n",
    "print(b)\n",
    "\n",
    "b.remove(3)\n",
    "print(b)\n",
    "\n",
    "b.sort()\n",
    "print(b)\n",
    "\n",
    "b.sort(reverse=True)\n",
    "print(b)\n",
    "\n",
    "print(len(b))\n",
    "\n"
   ]
  },
  {
   "cell_type": "code",
   "execution_count": 9,
   "id": "d2cf9c5d-e9fc-4cab-8c60-cb74a05f0d29",
   "metadata": {},
   "outputs": [
    {
     "name": "stdout",
     "output_type": "stream",
     "text": [
      "[10, 9, 9, 7, 5, 2, 1, 1, 2, 3, 4, 5]\n"
     ]
    }
   ],
   "source": [
    "b.extend(a)\n",
    "print(b)"
   ]
  },
  {
   "cell_type": "code",
   "execution_count": 10,
   "id": "9ecc0bce-6c5d-4206-acc0-088deb729a1c",
   "metadata": {},
   "outputs": [
    {
     "name": "stdout",
     "output_type": "stream",
     "text": [
      "[10, 9, 9, 7, 5, 2, 1, 1, 2, 3, 4, 5, 1, 2, 3, 4, 5, 1, 2, 3, 4, 5]\n"
     ]
    }
   ],
   "source": [
    "b.extend(a)\n",
    "print(b+a)"
   ]
  },
  {
   "cell_type": "code",
   "execution_count": 13,
   "id": "19519219-0048-4297-a819-e5bcc0a9bdec",
   "metadata": {},
   "outputs": [
    {
     "name": "stdin",
     "output_type": "stream",
     "text": [
      "Enter the size of the list: 5\n",
      " 7\n",
      " 8\n",
      " 2\n",
      " 9\n",
      " 1\n"
     ]
    },
    {
     "name": "stdout",
     "output_type": "stream",
     "text": [
      "['7', '8', '2', '9', '1']\n"
     ]
    }
   ],
   "source": [
    "n=int(input(\"Enter the size of the list:\"))\n",
    "a=[]\n",
    "for x in range (0,n):\n",
    "    x=input()\n",
    "    a.append(x)\n",
    "print(a)"
   ]
  },
  {
   "cell_type": "code",
   "execution_count": 18,
   "id": "01801302-2090-438d-aab8-aa4814cb7f74",
   "metadata": {},
   "outputs": [
    {
     "name": "stdin",
     "output_type": "stream",
     "text": [
      "Enter the elements of the list: 1234567\n"
     ]
    },
    {
     "name": "stdout",
     "output_type": "stream",
     "text": [
      "[1234567]\n"
     ]
    }
   ],
   "source": [
    "L= [int(item) for item in (input(\"Enter the elements of the list:\")).split()]\n",
    "print(L)"
   ]
  },
  {
   "cell_type": "code",
   "execution_count": 1,
   "id": "bc9144a9-9f70-4cec-b4b3-1b3d583cd1e6",
   "metadata": {},
   "outputs": [
    {
     "name": "stdout",
     "output_type": "stream",
     "text": [
      "[1, 2, 3, 4, 5, 6, 7]\n"
     ]
    }
   ],
   "source": [
    "a=list([1,2,3,4,5,6,7])\n",
    "print(a)"
   ]
  },
  {
   "cell_type": "markdown",
   "id": "44c5d610-d632-4e9c-b946-8592f07289a5",
   "metadata": {},
   "source": [
    "tuples"
   ]
  },
  {
   "cell_type": "code",
   "execution_count": 2,
   "id": "9bdc7eb0-e77f-414a-a40c-18720e8af0e8",
   "metadata": {},
   "outputs": [
    {
     "name": "stdout",
     "output_type": "stream",
     "text": [
      "(1, 2, 3, 4, 5.5, 'sush')\n"
     ]
    }
   ],
   "source": [
    "a=(1,2,3,4,5.5,\"sush\")\n",
    "print(a)\n"
   ]
  },
  {
   "cell_type": "code",
   "execution_count": 4,
   "id": "55fcbee9-0c8e-4324-982e-9c2040068992",
   "metadata": {},
   "outputs": [
    {
     "name": "stdout",
     "output_type": "stream",
     "text": [
      "(1, 2, 3, 4, 5.5, 'sush')\n"
     ]
    },
    {
     "data": {
      "text/plain": [
       "'sush'"
      ]
     },
     "execution_count": 4,
     "metadata": {},
     "output_type": "execute_result"
    }
   ],
   "source": [
    "a=(1,2,3,4,5.5,\"sush\")\n",
    "print(a)\n",
    "a[5]"
   ]
  },
  {
   "cell_type": "code",
   "execution_count": 6,
   "id": "e143be2e-1079-4feb-b773-ac03bdf95062",
   "metadata": {},
   "outputs": [
    {
     "name": "stdout",
     "output_type": "stream",
     "text": [
      "[1, 2, 3, 4, 5.5, 'sush']\n",
      "(1, 2, 3, 4, 5.5, 'sush')\n"
     ]
    }
   ],
   "source": [
    "b=list(a)\n",
    "print(b)\n",
    "b[5]=\"sush\"\n",
    "\n",
    "a=tuple(b)\n",
    "print(a)"
   ]
  },
  {
   "cell_type": "code",
   "execution_count": 9,
   "id": "5b445555-420f-4d9a-bbd1-393a6041239a",
   "metadata": {},
   "outputs": [
    {
     "name": "stdout",
     "output_type": "stream",
     "text": [
      "9\n",
      "8\n",
      "7\n",
      "6\n",
      "5\n",
      "4\n",
      "3\n",
      "2\n",
      "1\n"
     ]
    }
   ],
   "source": [
    "a=(1,2,3,4,5,6,7,8,9)\n",
    "for x in range(-1,-1*(len(a)+1),-1):\n",
    "    print(a[x])"
   ]
  },
  {
   "cell_type": "code",
   "execution_count": 15,
   "id": "66e386e4-45ba-4b2a-90c4-e280d2f2ab8c",
   "metadata": {},
   "outputs": [
    {
     "name": "stdout",
     "output_type": "stream",
     "text": [
      "8\n",
      "9\n"
     ]
    }
   ],
   "source": [
    "a=(1,2,3,4,5,6,7,8,9)\n",
    "for x in range(x-1,0):\n",
    "    print(a[x])"
   ]
  },
  {
   "cell_type": "markdown",
   "id": "ed8da46e-825f-462e-bf13-ec9017ce2acc",
   "metadata": {},
   "source": [
    "Dictionary\n",
    "key and values\n",
    "key values pair\n"
   ]
  },
  {
   "cell_type": "code",
   "execution_count": 20,
   "id": "c03a92eb-2847-4a3d-aa49-84a7b8194f07",
   "metadata": {},
   "outputs": [
    {
     "name": "stdout",
     "output_type": "stream",
     "text": [
      "{1: 'sush', 2: 'risa', 3: 'anu'}\n",
      "anu\n",
      "dict_keys([1, 2, 3])\n",
      "dict_values(['sush', 'risa', 'anu'])\n",
      "dict_items([(1, 'sush'), (2, 'risa'), (3, 'anu')])\n"
     ]
    }
   ],
   "source": [
    "D={1:\"sush\",2:\"risa\",3:\"anu\"}\n",
    "print(D)\n",
    "\n",
    "print(D[3])\n",
    "\n",
    "print(D.keys())\n",
    "\n",
    "print(D.values())\n",
    "\n",
    "print(D.items())\n",
    "\n",
    "print(D.get(4))"
   ]
  },
  {
   "cell_type": "code",
   "execution_count": 21,
   "id": "e85eaf03-4290-44b9-a4d8-686b6da3b7f9",
   "metadata": {},
   "outputs": [
    {
     "name": "stdin",
     "output_type": "stream",
     "text": [
      "Enter the key: 4\n",
      "Enter the value: moon\n"
     ]
    },
    {
     "ename": "ValueError",
     "evalue": "invalid literal for int() with base 10: 'moon'",
     "output_type": "error",
     "traceback": [
      "\u001b[1;31m---------------------------------------------------------------------------\u001b[0m",
      "\u001b[1;31mValueError\u001b[0m                                Traceback (most recent call last)",
      "Cell \u001b[1;32mIn[21], line 5\u001b[0m\n\u001b[0;32m      3\u001b[0m d\u001b[38;5;241m=\u001b[39m{\u001b[38;5;241m1\u001b[39m:\u001b[38;5;124m\"\u001b[39m\u001b[38;5;124msush\u001b[39m\u001b[38;5;124m\"\u001b[39m,\u001b[38;5;241m2\u001b[39m:\u001b[38;5;124m\"\u001b[39m\u001b[38;5;124mrisa\u001b[39m\u001b[38;5;124m\"\u001b[39m,\u001b[38;5;241m3\u001b[39m:\u001b[38;5;124m\"\u001b[39m\u001b[38;5;124manu\u001b[39m\u001b[38;5;124m\"\u001b[39m}\n\u001b[0;32m      4\u001b[0m a\u001b[38;5;241m=\u001b[39m\u001b[38;5;28mint\u001b[39m(\u001b[38;5;28minput\u001b[39m(\u001b[38;5;124m\"\u001b[39m\u001b[38;5;124mEnter the key:\u001b[39m\u001b[38;5;124m\"\u001b[39m))\n\u001b[1;32m----> 5\u001b[0m b\u001b[38;5;241m=\u001b[39m\u001b[38;5;28;43mint\u001b[39;49m\u001b[43m(\u001b[49m\u001b[38;5;28;43minput\u001b[39;49m\u001b[43m(\u001b[49m\u001b[38;5;124;43m\"\u001b[39;49m\u001b[38;5;124;43mEnter the value:\u001b[39;49m\u001b[38;5;124;43m\"\u001b[39;49m\u001b[43m)\u001b[49m\u001b[43m)\u001b[49m\n\u001b[0;32m      6\u001b[0m \u001b[38;5;28mprint\u001b[39m(d)\n",
      "\u001b[1;31mValueError\u001b[0m: invalid literal for int() with base 10: 'moon'"
     ]
    }
   ],
   "source": [
    "##prog to take key and value as user and add it into the dict if key is not present in the dict\n",
    "##otherwise print key already exist and print the value of key and the print the dict\n",
    "d={1:\"sush\",2:\"risa\",3:\"anu\"}\n",
    "a=int(input(\"Enter the key:\"))\n",
    "b=int(input(\"Enter the value:\"))\n",
    "\n"
   ]
  },
  {
   "cell_type": "code",
   "execution_count": 1,
   "id": "471999f1-52d1-4318-b345-df1d58294468",
   "metadata": {},
   "outputs": [
    {
     "ename": "ZeroDivisionError",
     "evalue": "division by zero",
     "output_type": "error",
     "traceback": [
      "\u001b[1;31m---------------------------------------------------------------------------\u001b[0m",
      "\u001b[1;31mZeroDivisionError\u001b[0m                         Traceback (most recent call last)",
      "Cell \u001b[1;32mIn[1], line 3\u001b[0m\n\u001b[0;32m      1\u001b[0m a\u001b[38;5;241m=\u001b[39m\u001b[38;5;241m5\u001b[39m\n\u001b[0;32m      2\u001b[0m b\u001b[38;5;241m=\u001b[39m\u001b[38;5;241m0\u001b[39m\n\u001b[1;32m----> 3\u001b[0m c\u001b[38;5;241m=\u001b[39m\u001b[43ma\u001b[49m\u001b[38;5;241;43m/\u001b[39;49m\u001b[43mb\u001b[49m\n\u001b[0;32m      4\u001b[0m \u001b[38;5;28mprint\u001b[39m(c)\n",
      "\u001b[1;31mZeroDivisionError\u001b[0m: division by zero"
     ]
    }
   ],
   "source": [
    "a=5\n",
    "b=0\n",
    "c=a/b\n",
    "print(c)"
   ]
  },
  {
   "cell_type": "code",
   "execution_count": 6,
   "id": "a84e9dcd-b5ff-4818-ab61-b6b059e71853",
   "metadata": {},
   "outputs": [
    {
     "name": "stdin",
     "output_type": "stream",
     "text": [
      " 5\n",
      " 6\n"
     ]
    },
    {
     "name": "stdout",
     "output_type": "stream",
     "text": [
      "0.8333333333333334\n",
      "division sucessfull\n",
      "0.8333333333333334\n",
      "error handelled\n",
      "we have received the result as: 0.8333333333333334\n"
     ]
    }
   ],
   "source": [
    "a=int(input())\n",
    "b=int(input())\n",
    "c=a/b\n",
    "try:\n",
    "    print(c)\n",
    "except:\n",
    "    print(\"we cant divide:\")\n",
    "else:\n",
    "    print(\"division sucessfull\")\n",
    "    print(c)\n",
    "finally:\n",
    "    print(\"error handelled\")\n",
    "\n",
    "print(\"we have received the result as:\",c)\n",
    "    "
   ]
  },
  {
   "cell_type": "code",
   "execution_count": 16,
   "id": "f4d6999a-cba0-47b8-bd6d-f655983eb6bd",
   "metadata": {},
   "outputs": [
    {
     "name": "stdin",
     "output_type": "stream",
     "text": [
      "Enter the index: 12\n"
     ]
    },
    {
     "name": "stdout",
     "output_type": "stream",
     "text": [
      "index is not present in the liat\n"
     ]
    }
   ],
   "source": [
    "a=[0,1,2,3,4,5,6,7,8,9]\n",
    "b=int(input(\"Enter the index:\"))\n",
    "try:\n",
    "    print(a[b])\n",
    "except:\n",
    "    print(\"index is not present in the list\")\n",
    "else:\n",
    "    print(\"it is present\")\n",
    "\n"
   ]
  },
  {
   "cell_type": "code",
   "execution_count": 17,
   "id": "41b0efdc-8384-4d31-8e24-00bd20eaa225",
   "metadata": {},
   "outputs": [
    {
     "name": "stdout",
     "output_type": "stream",
     "text": [
      "Cant'n divide by zero\n",
      "code execution done\n"
     ]
    }
   ],
   "source": [
    "try:\n",
    "    c=10/0\n",
    "except ValueError:\n",
    "    print(\"data type issue\")\n",
    "\n",
    "except ZeroDivisionError:\n",
    "    print(\"Cant'n divide by zero\")\n",
    "except:\n",
    "    print(\"some anknow error found\")\n",
    "else:\n",
    "    print(\"no error\")\n",
    "finally:\n",
    "    print(\"code execution done\")\n",
    "    \n",
    "    "
   ]
  },
  {
   "cell_type": "code",
   "execution_count": 19,
   "id": "4289b23f-d283-4910-a100-58db865268ee",
   "metadata": {},
   "outputs": [
    {
     "name": "stdin",
     "output_type": "stream",
     "text": [
      " $\n",
      " 5\n"
     ]
    },
    {
     "name": "stdout",
     "output_type": "stream",
     "text": [
      "data type issue\n",
      "code execution done\n"
     ]
    }
   ],
   "source": [
    "try:\n",
    "    a=input()\n",
    "    b=input()\n",
    "    c=int(a)+int(b)\n",
    "except ValueError:\n",
    "    print(\"data type issue\")\n",
    "\n",
    "except ZeroDivisionError:\n",
    "    print(\"Cant'n divide by zero\")\n",
    "except:\n",
    "    print(\"some anknow error found\")\n",
    "else:\n",
    "    print(\"no error\")\n",
    "finally:\n",
    "    print(\"code execution done\")\n",
    "    \n",
    "    "
   ]
  },
  {
   "cell_type": "markdown",
   "id": "85ad099a-dd34-4f32-a0f3-636e7d50af70",
   "metadata": {},
   "source": [
    "->to find the sum of all the elements in the list and handle the case if it consist of non numeric value\n",
    "->create a dict to the name and grades to find the grades if the dict is empty\n"
   ]
  }
 ],
 "metadata": {
  "kernelspec": {
   "display_name": "Python 3 (ipykernel)",
   "language": "python",
   "name": "python3"
  },
  "language_info": {
   "codemirror_mode": {
    "name": "ipython",
    "version": 3
   },
   "file_extension": ".py",
   "mimetype": "text/x-python",
   "name": "python",
   "nbconvert_exporter": "python",
   "pygments_lexer": "ipython3",
   "version": "3.12.3"
  }
 },
 "nbformat": 4,
 "nbformat_minor": 5
}
