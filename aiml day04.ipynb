{
 "cells": [
  {
   "cell_type": "code",
   "execution_count": null,
   "id": "dec92093-9236-404b-8cd3-99abd3480dbc",
   "metadata": {},
   "outputs": [],
   "source": [
    "a=input()\n",
    "if a.isupper():\n",
    "    print(\"A is a upper case character\")\n",
    "elif a.islowef()\n",
    "    print(\"A is a lower case charavter\")\n",
    "elif a.isnumeric()"
   ]
  },
  {
   "cell_type": "code",
   "execution_count": 17,
   "id": "c54db23a-b350-4c2a-86b3-12a144de9feb",
   "metadata": {},
   "outputs": [
    {
     "name": "stdin",
     "output_type": "stream",
     "text": [
      " efgfe\n"
     ]
    },
    {
     "name": "stdout",
     "output_type": "stream",
     "text": [
      "  is a palindrome\n"
     ]
    }
   ],
   "source": [
    "a=input()\n",
    "flag = 0\n",
    "for i in range (0,int(len(a)/2)):\n",
    "    if a[i] != a[(i+1)*-1]:\n",
    "        flag = 1\n",
    "        break\n",
    "if flag:\n",
    "      print(\" is not a palindrome\")\n",
    "else:\n",
    "     print(\"  is a palindrome\")"
   ]
  },
  {
   "cell_type": "code",
   "execution_count": 32,
   "id": "32c80ed9-f32e-4643-a40c-be375d245c4d",
   "metadata": {},
   "outputs": [
    {
     "name": "stdin",
     "output_type": "stream",
     "text": [
      " 10\n"
     ]
    },
    {
     "name": "stdout",
     "output_type": "stream",
     "text": [
      "is not a prime number\n"
     ]
    }
   ],
   "source": [
    "n=int(input())\n",
    "\n",
    "for i in range(2,int(n/2)):\n",
    "    if n%i==0:\n",
    "         print(\"is not a prime number\")\n",
    "         break\n",
    "else:\n",
    "        print(\"is a prime number\")\n",
    "        "
   ]
  },
  {
   "cell_type": "code",
   "execution_count": null,
   "id": "ebead639-cba9-4a26-9d0a-f4748e9fec0f",
   "metadata": {},
   "outputs": [],
   "source": [
    "if _name_ '_main_':\n",
    "filename=\"example.txt\"\n",
    "new_filename=\"new_example.txt\"\n",
    "\n",
    "create_file(filename)\n",
    "read_file(filename)\n",
    "append_file(filename,\"this is some additional text.\\n\")\n",
    "read_file(filename)\n",
    "rename_file(filename)\n",
    "read_file(filename)"
   ]
  },
  {
   "cell_type": "code",
   "execution_count": 22,
   "id": "7c7e19b3-8923-4ef5-8891-e30d5b4864b8",
   "metadata": {},
   "outputs": [
    {
     "ename": "FileNotFoundError",
     "evalue": "[WinError 2] The system cannot find the file specified: 'file,txt'",
     "output_type": "error",
     "traceback": [
      "\u001b[1;31m---------------------------------------------------------------------------\u001b[0m",
      "\u001b[1;31mFileNotFoundError\u001b[0m                         Traceback (most recent call last)",
      "Cell \u001b[1;32mIn[22], line 13\u001b[0m\n\u001b[0;32m      9\u001b[0m     f\u001b[38;5;241m.\u001b[39mclose()\n\u001b[0;32m     11\u001b[0m \u001b[38;5;28;01mimport\u001b[39;00m \u001b[38;5;21;01mos\u001b[39;00m\n\u001b[1;32m---> 13\u001b[0m \u001b[43mos\u001b[49m\u001b[38;5;241;43m.\u001b[39;49m\u001b[43mremove\u001b[49m\u001b[43m(\u001b[49m\u001b[38;5;124;43m\"\u001b[39;49m\u001b[38;5;124;43mfile,txt\u001b[39;49m\u001b[38;5;124;43m\"\u001b[39;49m\u001b[43m)\u001b[49m\n\u001b[0;32m     15\u001b[0m \u001b[38;5;28;01mimport\u001b[39;00m \u001b[38;5;21;01mos\u001b[39;00m\n\u001b[0;32m     17\u001b[0m \u001b[38;5;28;01mwith\u001b[39;00m \u001b[38;5;28mopen\u001b[39m(\u001b[38;5;124m\"\u001b[39m\u001b[38;5;124mfile.txt\u001b[39m\u001b[38;5;124m\"\u001b[39m,\u001b[38;5;124m'\u001b[39m\u001b[38;5;124ma\u001b[39m\u001b[38;5;124m'\u001b[39m)\u001b[38;5;28;01mas\u001b[39;00m f:\n",
      "\u001b[1;31mFileNotFoundError\u001b[0m: [WinError 2] The system cannot find the file specified: 'file,txt'"
     ]
    }
   ],
   "source": [
    "import os\n",
    "\n",
    "with open(\"file.txt\",'w')as f:\n",
    "    f.write(\"this is first txt in file\")\n",
    "    f.close()\n",
    "\n",
    "with open(\"file.txt\",'a')as f:\n",
    "    f.write(\"this is second txt in file\")\n",
    "    f.close()\n",
    "\n",
    "import os\n",
    "\n",
    "os.remove(\"file,txt\")\n",
    "\n",
    "import os\n",
    "\n",
    "with open(\"file.txt\",'a')as f:\n",
    "    f.write(\"this is second txtin file\")\n",
    "    f.close()"
   ]
  },
  {
   "cell_type": "code",
   "execution_count": 29,
   "id": "63193778-2c8d-425b-9e7e-4b9bf032549e",
   "metadata": {},
   "outputs": [],
   "source": [
    "import os\n",
    "\n",
    "with open(\"sushmita.txt\",'w')as f:\n",
    "    f.write(\"this is first txt in file\")\n",
    "    f.close()"
   ]
  },
  {
   "cell_type": "code",
   "execution_count": 30,
   "id": "edf8c303-ecce-4e2d-b8e5-6169741d0080",
   "metadata": {},
   "outputs": [],
   "source": [
    "import os\n",
    "\n",
    "with open(\"sushmita.txt\",'a')as f:\n",
    "    f.write(\"this is second txt in file\")\n",
    "    f.close()\n"
   ]
  },
  {
   "cell_type": "code",
   "execution_count": 28,
   "id": "014751f0-0d72-4a90-b385-bbfd40010cc4",
   "metadata": {},
   "outputs": [],
   "source": [
    "import os\n",
    "os.remove(\"sushmita.txt\")\n"
   ]
  },
  {
   "cell_type": "code",
   "execution_count": 35,
   "id": "5f4a4840-458a-4751-8d1d-06c76c6edd1c",
   "metadata": {},
   "outputs": [
    {
     "name": "stdout",
     "output_type": "stream",
     "text": [
      "this\n",
      "162\n",
      "is\n",
      "162\n",
      "first\n",
      "162\n",
      "txt\n",
      "162\n",
      "in\n",
      "162\n",
      "filethis\n",
      "162\n",
      "is\n",
      "162\n",
      "second\n",
      "162\n",
      "txt\n",
      "162\n",
      "in\n",
      "162\n",
      "file\n",
      "162\n"
     ]
    }
   ],
   "source": [
    "import os\n",
    "\n",
    "with open(\"sushmita.txt\",'r')as f:\n",
    "    for a in f.read().split():\n",
    "        print(a)\n",
    "        print(\"162\")\n",
    "\n",
    "    f.close()"
   ]
  },
  {
   "cell_type": "code",
   "execution_count": 39,
   "id": "09ce69c3-782b-41cb-8fa5-a640905ba58e",
   "metadata": {},
   "outputs": [
    {
     "name": "stdin",
     "output_type": "stream",
     "text": [
      "Enter the temperature in celsius: 40\n"
     ]
    },
    {
     "name": "stdout",
     "output_type": "stream",
     "text": [
      "the temperature in fahrenheit is: 104.0\n"
     ]
    }
   ],
   "source": [
    "##convert celsius to fahrenheit\n",
    "celsius=float(input(\"Enter the temperature in celsius:\"))\n",
    "fahrenheit=(celsius*9/5)+32\n",
    "print(\"the temperature in fahrenheit is:\",fahrenheit)\n",
    "\n"
   ]
  },
  {
   "cell_type": "code",
   "execution_count": 3,
   "id": "1affaf4e-da07-4a87-94fc-00789c951878",
   "metadata": {},
   "outputs": [
    {
     "name": "stdout",
     "output_type": "stream",
     "text": [
      "Second largest element is: 85\n"
     ]
    }
   ],
   "source": [
    "##find second largest number in a list\n",
    "list1=[10,20,30,40,50,55,42,90,85,39]\n",
    "list2=list(set(list1))\n",
    "list2.sort()\n",
    "print (\"Second largest element is:\",list2[-2])"
   ]
  },
  {
   "cell_type": "code",
   "execution_count": 2,
   "id": "3c260a47-238b-4faf-8c77-ed87befb3b19",
   "metadata": {},
   "outputs": [
    {
     "name": "stdout",
     "output_type": "stream",
     "text": [
      "even is: 428\n"
     ]
    }
   ],
   "source": [
    "## sum of all the even numbers in a list\n",
    "list=[485,84,20,58,19,80,47,30,86,22,48]\n",
    "even=0\n",
    "for i in list:\n",
    "    if i%2==0:\n",
    "        even=even+i\n",
    "print(\"even is:\",even)"
   ]
  },
  {
   "cell_type": "code",
   "execution_count": null,
   "id": "650c292a-405d-4090-9b9b-c91a873715c4",
   "metadata": {},
   "outputs": [],
   "source": [
    "list=[10,35,60,49,38,40,28,19]\n",
    "sum = 0\n",
    "for i in list:\n",
    "    if i%2 == 0:\n",
    "        sum+=i\n",
    "print(\"sum \")"
   ]
  },
  {
   "cell_type": "code",
   "execution_count": 3,
   "id": "0dc3cba0-6100-4508-a189-42a188636d84",
   "metadata": {},
   "outputs": [
    {
     "name": "stdout",
     "output_type": "stream",
     "text": [
      "the element 1 occurances 2 times\n"
     ]
    }
   ],
   "source": [
    "##check the occurance of elements\n",
    "list=[1,1,2,2,2,3,3,4,4,5,5]\n",
    "ele=1\n",
    "x=[i for i in list if i==ele]\n",
    "print(\"the element\",ele,\"occurances\",len(x),\"times\")"
   ]
  },
  {
   "cell_type": "code",
   "execution_count": 6,
   "id": "a5e904a4-346f-451b-a19f-0767c01bb110",
   "metadata": {},
   "outputs": [
    {
     "name": "stdin",
     "output_type": "stream",
     "text": [
      "Enter the string: sushmita\n"
     ]
    },
    {
     "name": "stdout",
     "output_type": "stream",
     "text": [
      "number of vowels are: 3\n"
     ]
    }
   ],
   "source": [
    "##count the number of vowels in a string\n",
    "string=input(\"Enter the string:\")\n",
    "vowels=0\n",
    "for i in string:\n",
    "    if(i=='a' or i=='e' or i=='o' or i=='i' or i=='u'):\n",
    "        vowels=vowels+1\n",
    "print(\"number of vowels are:\",vowels)\n"
   ]
  },
  {
   "cell_type": "code",
   "execution_count": 7,
   "id": "6a74a344-edaa-41e1-8a2f-56435c8e6c93",
   "metadata": {},
   "outputs": [
    {
     "name": "stdout",
     "output_type": "stream",
     "text": [
      "hungry am I\n"
     ]
    }
   ],
   "source": [
    "##reversw the  given swntences\n",
    "a=\"I am hungry\"\n",
    "word_list=a.split()\n",
    "reversed_list=word_list[:: -1]\n",
    "reversed_a=\" \".join(reversed_list)\n",
    "print(reversed_a)\n"
   ]
  },
  {
   "cell_type": "code",
   "execution_count": 10,
   "id": "c3dd3fbc-799c-4b67-9612-da46e18518b9",
   "metadata": {},
   "outputs": [
    {
     "name": "stdout",
     "output_type": "stream",
     "text": [
      "I ma yrgnuh\n"
     ]
    }
   ],
   "source": [
    "##reverse the words in a given swntences\n",
    "def reverse(sentence):\n",
    "    return ' '.join(word[::-1] for word in sentence.split(\" \"))\n",
    "sentence=\"I am hungry\"\n",
    "print(reverse(sentence))"
   ]
  }
 ],
 "metadata": {
  "kernelspec": {
   "display_name": "Python 3 (ipykernel)",
   "language": "python",
   "name": "python3"
  },
  "language_info": {
   "codemirror_mode": {
    "name": "ipython",
    "version": 3
   },
   "file_extension": ".py",
   "mimetype": "text/x-python",
   "name": "python",
   "nbconvert_exporter": "python",
   "pygments_lexer": "ipython3",
   "version": "3.12.3"
  }
 },
 "nbformat": 4,
 "nbformat_minor": 5
}
