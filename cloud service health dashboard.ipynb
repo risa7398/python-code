{
 "cells": [
  {
   "cell_type": "code",
   "execution_count": 2,
   "id": "d2626f6c-8614-4bdd-9af2-03f123d04402",
   "metadata": {},
   "outputs": [
    {
     "name": "stdout",
     "output_type": "stream",
     "text": [
      "\n",
      "Menu:\n",
      "1. Create Service\n",
      "2. Read Service\n",
      "3. Update Service Health\n",
      "4. Delete Service\n",
      "5. Display Service Status\n",
      "6. Exit\n"
     ]
    },
    {
     "name": "stdin",
     "output_type": "stream",
     "text": [
      "Enter your choice:  1\n",
      "Enter service name:  aws\n",
      "Enter health status:  healthy\n"
     ]
    },
    {
     "name": "stdout",
     "output_type": "stream",
     "text": [
      "Service created successfully with ID: 6\n",
      "\n",
      "Menu:\n",
      "1. Create Service\n",
      "2. Read Service\n",
      "3. Update Service Health\n",
      "4. Delete Service\n",
      "5. Display Service Status\n",
      "6. Exit\n"
     ]
    },
    {
     "name": "stdin",
     "output_type": "stream",
     "text": [
      "Enter your choice:  1\n",
      "Enter service name:  google\n",
      "Enter health status:  degraded\n"
     ]
    },
    {
     "name": "stdout",
     "output_type": "stream",
     "text": [
      "Service created successfully with ID: 7\n",
      "\n",
      "Menu:\n",
      "1. Create Service\n",
      "2. Read Service\n",
      "3. Update Service Health\n",
      "4. Delete Service\n",
      "5. Display Service Status\n",
      "6. Exit\n"
     ]
    },
    {
     "name": "stdin",
     "output_type": "stream",
     "text": [
      "Enter your choice:  1\n",
      "Enter service name:  ibm\n",
      "Enter health status:  healthy\n"
     ]
    },
    {
     "name": "stdout",
     "output_type": "stream",
     "text": [
      "Service created successfully with ID: 8\n",
      "\n",
      "Menu:\n",
      "1. Create Service\n",
      "2. Read Service\n",
      "3. Update Service Health\n",
      "4. Delete Service\n",
      "5. Display Service Status\n",
      "6. Exit\n"
     ]
    },
    {
     "name": "stdin",
     "output_type": "stream",
     "text": [
      "Enter your choice:  2\n",
      "Enter service ID:  6\n"
     ]
    },
    {
     "name": "stdout",
     "output_type": "stream",
     "text": [
      "Service ID: 6, Name: aws, Health Status: healthy\n",
      "\n",
      "Menu:\n",
      "1. Create Service\n",
      "2. Read Service\n",
      "3. Update Service Health\n",
      "4. Delete Service\n",
      "5. Display Service Status\n",
      "6. Exit\n"
     ]
    },
    {
     "name": "stdin",
     "output_type": "stream",
     "text": [
      "Enter your choice:  2\n",
      "Enter service ID:  7\n"
     ]
    },
    {
     "name": "stdout",
     "output_type": "stream",
     "text": [
      "Service ID: 7, Name: google, Health Status: degraded\n",
      "\n",
      "Menu:\n",
      "1. Create Service\n",
      "2. Read Service\n",
      "3. Update Service Health\n",
      "4. Delete Service\n",
      "5. Display Service Status\n",
      "6. Exit\n"
     ]
    },
    {
     "name": "stdin",
     "output_type": "stream",
     "text": [
      "Enter your choice:  3\n",
      "Enter service ID:  6\n",
      "Enter new health status:  degraded\n"
     ]
    },
    {
     "name": "stdout",
     "output_type": "stream",
     "text": [
      "Service health status updated successfully.\n",
      "\n",
      "Menu:\n",
      "1. Create Service\n",
      "2. Read Service\n",
      "3. Update Service Health\n",
      "4. Delete Service\n",
      "5. Display Service Status\n",
      "6. Exit\n"
     ]
    },
    {
     "name": "stdin",
     "output_type": "stream",
     "text": [
      "Enter your choice:  5\n",
      "Enter service ID:  6\n"
     ]
    },
    {
     "name": "stdout",
     "output_type": "stream",
     "text": [
      "Service ID: 6, Name: aws, Health Status: degraded\n",
      "\n",
      "Menu:\n",
      "1. Create Service\n",
      "2. Read Service\n",
      "3. Update Service Health\n",
      "4. Delete Service\n",
      "5. Display Service Status\n",
      "6. Exit\n"
     ]
    },
    {
     "name": "stdin",
     "output_type": "stream",
     "text": [
      "Enter your choice:  6\n"
     ]
    }
   ],
   "source": [
    "class CloudService:\n",
    "    def __init__(self, service_id, name, health_status):\n",
    "        self.service_id = service_id\n",
    "        self.name = name\n",
    "        self.health_status = health_status\n",
    "\n",
    "import os\n",
    "import datetime\n",
    "\n",
    "class CloudServiceDashboard:\n",
    "    def __init__(self):\n",
    "        self.services = []\n",
    "        self.load_services_from_file()\n",
    "\n",
    "    def load_services_from_file(self):\n",
    "        if os.path.exists(\"services.txt\"):\n",
    "            with open(\"services.txt\", \"r\") as file:\n",
    "                for line in file:\n",
    "                    service_id, name, health_status = line.strip().split(\",\")\n",
    "                    self.services.append(CloudService(service_id, name, health_status))\n",
    "\n",
    "    def save_services_to_file(self):\n",
    "        with open(\"services.txt\", \"w\") as file:\n",
    "            for service in self.services:\n",
    "                file.write(\"{},{},{}\\n\".format(service.service_id, service.name, service.health_status))\n",
    "\n",
    "    def log_service_update(self, service_id, old_status, new_status):\n",
    "        log_message = \"{} - Service updated ID: {}, Name: {}, Health Status: {} -> {}\\n\".format(datetime.datetime.now(), service_id, self.read_service(service_id).name, old_status, new_status)\n",
    "        with open(\"service_log.txt\", \"a\") as log_file:\n",
    "            log_file.write(log_message)\n",
    "\n",
    "    def log_service_creation(self, service_id, name, health_status):\n",
    "        log_message = \"{} - New Service Created - ID: {}, Name: {}, Health Status: {}\\n\".format(datetime.datetime.now(), service_id, name, health_status)\n",
    "        with open(\"service_log.txt\", \"a\") as log_file:\n",
    "            log_file.write(log_message)\n",
    "\n",
    "    def log_service_read(self, service_id):\n",
    "        service = self.read_service(service_id)\n",
    "        if service:\n",
    "            log_message = \"{} - Service Read - ID: {}, Name: {}, Health Status: {}\\n\".format(datetime.datetime.now(), service.service_id, service.name, service.health_status)\n",
    "            with open(\"service_log.txt\", \"a\") as log_file:\n",
    "                log_file.write(log_message)\n",
    "\n",
    "    def create_service(self, name, health_status):\n",
    "        service_id = str(len(self.services) + 1)  # Automatic assignment of service ID\n",
    "        service = CloudService(service_id, name, health_status)\n",
    "        self.services.append(service)\n",
    "        self.save_services_to_file()\n",
    "        self.log_service_creation(service_id, name, health_status)  # Log service creation\n",
    "        print(\"Service created successfully with ID:\", service_id)\n",
    "\n",
    "    def display_cloud_service_status(self, service_id):\n",
    "        service = self.read_service(service_id)\n",
    "        if service:\n",
    "            print(\"Service ID: {}, Name: {}, Health Status: {}\".format(service.service_id, service.name, service.health_status))\n",
    "            self.log_service_read(service_id)  # Log service read\n",
    "        else:\n",
    "            print(\"Service with ID {} not found.\".format(service_id))\n",
    "\n",
    "    def read_service(self, service_id):\n",
    "        for service in self.services:\n",
    "            if service.service_id == service_id:\n",
    "                return service\n",
    "        return None\n",
    "\n",
    "    def update_service_health(self, service_id, health_status):\n",
    "        service = self.read_service(service_id)\n",
    "        if service:\n",
    "            old_status = service.health_status\n",
    "            service.health_status = health_status\n",
    "            self.save_services_to_file()\n",
    "            self.log_service_update(service_id, old_status, health_status)\n",
    "            print(\"Service health status updated successfully.\")\n",
    "        else:\n",
    "            print(\"Service with ID {} not found.\".format(service_id))\n",
    "\n",
    "    def delete_service(self, service_id):\n",
    "        service = self.read_service(service_id)\n",
    "        if service:\n",
    "            self.services.remove(service)\n",
    "            self.save_services_to_file()\n",
    "            print(\"Service deleted successfully.\")\n",
    "        else:\n",
    "            print(\"Service with ID {} not found.\".format(service_id))\n",
    "\n",
    "dashboard = CloudServiceDashboard()\n",
    "while True:\n",
    "    print(\"\\nMenu:\")\n",
    "    print(\"1. Create Service\")\n",
    "    print(\"2. Read Service\")\n",
    "    print(\"3. Update Service Health\")\n",
    "    print(\"4. Delete Service\")\n",
    "    print(\"5. Display Service Status\")\n",
    "    print(\"6. Exit\")\n",
    "    choice = input(\"Enter your choice: \")\n",
    "    if choice == \"1\":\n",
    "        name = input(\"Enter service name: \")\n",
    "        health_status = input(\"Enter health status: \")\n",
    "        dashboard.create_service(name, health_status)\n",
    "    elif choice == \"2\":\n",
    "        service_id = input(\"Enter service ID: \")\n",
    "        dashboard.display_cloud_service_status(service_id)\n",
    "    elif choice == \"3\":\n",
    "        service_id = input(\"Enter service ID: \")\n",
    "        health_status = input(\"Enter new health status: \")\n",
    "        dashboard.update_service_health(service_id, health_status)\n",
    "    elif choice == \"4\":\n",
    "        service_id = input(\"Enter service ID: \")\n",
    "        dashboard.delete_service(service_id)\n",
    "    elif choice == \"5\":\n",
    "        service_id = input(\"Enter service ID: \")\n",
    "        dashboard.display_cloud_service_status(service_id)\n",
    "    elif choice == \"6\":\n",
    "        break\n",
    "    else:\n",
    "        print(\"Invalid choice. Please enter a number between 1 and 6.\")"
   ]
  },
  {
   "cell_type": "code",
   "execution_count": null,
   "id": "7e171969-282a-41df-818f-8628894a92e3",
   "metadata": {},
   "outputs": [],
   "source": []
  }
 ],
 "metadata": {
  "kernelspec": {
   "display_name": "Python 3 (ipykernel)",
   "language": "python",
   "name": "python3"
  },
  "language_info": {
   "codemirror_mode": {
    "name": "ipython",
    "version": 3
   },
   "file_extension": ".py",
   "mimetype": "text/x-python",
   "name": "python",
   "nbconvert_exporter": "python",
   "pygments_lexer": "ipython3",
   "version": "3.12.3"
  }
 },
 "nbformat": 4,
 "nbformat_minor": 5
}
