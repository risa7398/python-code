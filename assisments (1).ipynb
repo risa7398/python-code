{
 "cells": [
  {
   "cell_type": "code",
   "execution_count": 14,
   "id": "f4896da6-79cf-44ed-90b1-67648c98c5e4",
   "metadata": {},
   "outputs": [
    {
     "name": "stdout",
     "output_type": "stream",
     "text": [
      "11 is a prime number\n",
      "11 is a prime number\n",
      "11 is a prime number\n",
      "11 is a prime number\n"
     ]
    }
   ],
   "source": [
    "n=11\n",
    "if n>1:\n",
    "    for i in range(2,(n//2)+1):\n",
    "        if(n%i)==0:\n",
    "            print(n,\"is not a prime number\")\n",
    "        else:\n",
    "            print(n,\"is a prime number\")"
   ]
  },
  {
   "cell_type": "code",
   "execution_count": 2,
   "id": "5c1f93d4-60d8-458b-b9c7-44e51f39d7ad",
   "metadata": {},
   "outputs": [
    {
     "name": "stdout",
     "output_type": "stream",
     "text": [
      "Enter the string: LETTER\n"
     ]
    },
    {
     "name": "stdout",
     "output_type": "stream",
     "text": [
      "the string is not a palindrome\n",
      "None\n"
     ]
    }
   ],
   "source": [
    "def isPalindrome(string):\n",
    "    if (string==string[::-1]):\n",
    "        print(\"the string is apalindrome\")\n",
    "    else:\n",
    "        print(\"the string is not a palindrome\")\n",
    "string=input(\"Enter the string:\")\n",
    "print(isPalindrome(string))"
   ]
  },
  {
   "cell_type": "code",
   "execution_count": 4,
   "id": "e78721c4-27fe-4527-85a1-5991de14580d",
   "metadata": {},
   "outputs": [],
   "source": [
    "def isPalindrome(string):\n",
    "    string=string.lower().replace(\",\")\n",
    "    first,last=0,len(string)-1\n",
    "    while(first<last):\n",
    "        if(string[first]==string[last]):\n",
    "            first+=1\n",
    "            last-=1\n",
    "            print(\"the string is not a palindrome\")\n",
    "        else:\n",
    "            print(\"the string is not a palindrome\")\n",
    "        str1=input(\"Enter the string:\")\n",
    "        print(isPalindrome(str1))"
   ]
  },
  {
   "cell_type": "code",
   "execution_count": 7,
   "id": "da8fb910-2c66-4dcd-85de-687be0c4610e",
   "metadata": {},
   "outputs": [
    {
     "name": "stdout",
     "output_type": "stream",
     "text": [
      "enter a number 1\n"
     ]
    },
    {
     "name": "stdout",
     "output_type": "stream",
     "text": [
      "the factorial of a number is  1\n"
     ]
    }
   ],
   "source": [
    "n=7\n",
    "n=int(input(\"enter a number\"))\n",
    "factorial=1\n",
    "if n<0:\n",
    "    print(\"sorry,factorial did not exist for negative numbers\")\n",
    "elif n==0:\n",
    "    print(\"yhe factorial of a 0 ia 1\")\n",
    "else:\n",
    "    for i in range(1,n+1):\n",
    "        factorial*i\n",
    "        print(\"the factorial of a number is \",factorial)"
   ]
  },
  {
   "cell_type": "code",
   "execution_count": 15,
   "id": "074f60fa-973d-4e36-9666-66a89e05cc8d",
   "metadata": {},
   "outputs": [
    {
     "name": "stdout",
     "output_type": "stream",
     "text": [
      "the reversed number is: 4\n",
      "the reversed number is: 43\n",
      "the reversed number is: 432\n",
      "the reversed number is: 4321\n"
     ]
    }
   ],
   "source": [
    "number=1234\n",
    "reversed_number=0\n",
    "while number!=0:\n",
    "    digit=number%10\n",
    "    reversed_number=(reversed_number*10)+digit\n",
    "    number//=10\n",
    "    print(\"the reversed number is:\",str(reversed_number))"
   ]
  },
  {
   "cell_type": "code",
   "execution_count": 17,
   "id": "23d4a882-53f2-4cdf-aae8-7bdc7f54ffb2",
   "metadata": {},
   "outputs": [],
   "source": [
    "def addition(a,b):\n",
    "    return a+b\n",
    "def substraction(a,b):\n",
    "    return a-b\n",
    "def division(a,b):\n",
    "    if b==0:\n",
    "        return\"cannot divide by zero!\"\n",
    "        return a/b\n",
    "def modulus(a,b):\n",
    "    if b==0:\n",
    "        return\"cannot perfoem modulus with zero!\"\n",
    "        return a%b\n",
    "def multiplication(a,b):\n",
    "    return a*b\n",
    "def power(a,b):\n",
    "    return a**b\n",
    "def display_menu():\n",
    "    print(\"\\nMenu:\")\n",
    "    print(\"1.Addition\")\n",
    "    print(\"2.Substraction\")\n",
    "    print(\"3.Division\")\n",
    "    print(\"4.Modulus\")\n",
    "    print(\"5.Multiplication\")\n",
    "    print(\"6.Power\")\n",
    "    print(\"7.Exit\")\n",
    "def get_user_choice():\n",
    "    return int(input(\"Enter your choice(1-7):\"))\n",
    "def perform_operation(choice):\n",
    "    if choice in range(1,7):\n",
    "        a=float(input(\"enter the first number:\"))\n",
    "        b=float(input(\"enter the second number:\"))\n",
    "        if choice==1:\n",
    "            print(\"the result of addition is:{addition(a,b)}\")\n",
    "        elif choice==2:\n",
    "            print(\"the result of substraction is:{substraction(a,b)}\")\n",
    "        elif choice==3:\n",
    "            print(\"the result of division is:{division(a,b)}\")\n",
    "        elif choice==4:\n",
    "            print(\"the result of modulus is:{modulus(a,b)}\")\n",
    "        elif choice==5:\n",
    "            print(\"the result of multiplication is:{multiplication(a,b)}\")\n",
    "        elif choice==6:\n",
    "            print(\"the result of power is:{power(a,b)}\")\n",
    "def menu_driven_program():\n",
    "    while True:\n",
    "        display_menu()\n",
    "        choice=get_user_choice()\n",
    "        if choice==7:\n",
    "            print(\"exiting the program\")\n",
    "            break\n",
    "        perform_operation(choice)\n",
    "        menu_driven_program()\n",
    "        \n",
    "\n",
    "\n",
    "\n",
    "\n",
    "\n",
    "\n",
    "        "
   ]
  },
  {
   "cell_type": "code",
   "execution_count": 19,
   "id": "aa43882d-a999-4e2b-b7d0-82dff3d0f882",
   "metadata": {},
   "outputs": [
    {
     "name": "stdout",
     "output_type": "stream",
     "text": [
      "Enter a character: sushmita\n"
     ]
    },
    {
     "name": "stdout",
     "output_type": "stream",
     "text": [
      "the character'sushmita'is a lowercase letter\n"
     ]
    }
   ],
   "source": [
    "def identify_character_type():\n",
    "    char=input(\"Enter a character:\")\n",
    "    if char.islower():\n",
    "        print(f\"the character'{char}'is a lowercase letter\")\n",
    "    elif char.isupper():\n",
    "        print(f\"the character'{char}'is an uppercase letter\")\n",
    "    elif char.isdigit():\n",
    "        print(f\"the character'{char}'is a numeric digit\")\n",
    "    elif not char.isalpha() and not char.isdigit():\n",
    "        print(f\"the character'{char}'is a special character\")\n",
    "    else:\n",
    "        print(f\" the character '{char}'is not recognized as lowercase,uppercase,numeric,or special character\")\n",
    "identify_character_type()\n",
    "        \n",
    "        \n",
    "        \n",
    "        "
   ]
  },
  {
   "cell_type": "code",
   "execution_count": 20,
   "id": "2f7a8ba1-6a76-4102-88ec-a9aca0767905",
   "metadata": {},
   "outputs": [
    {
     "name": "stdout",
     "output_type": "stream",
     "text": [
      " the sum of numeric elements in the list is:1\n"
     ]
    }
   ],
   "source": [
    "def sum_of_list_elements(list):\n",
    "    total_sum=0\n",
    "    for element in list:\n",
    "        if isinstance(element,(int,float)):\n",
    "            total_sum+=element\n",
    "            return total_sum\n",
    "lst=[1,2,3,'hello',4,5,6,'world',7.5,None,[10]]\n",
    "result=sum_of_list_elements(lst)\n",
    "print(f\" the sum of numeric elements in the list is:{result}\")"
   ]
  },
  {
   "cell_type": "code",
   "execution_count": 24,
   "id": "1312702c-0fb0-465e-b351-92ac1c2568c0",
   "metadata": {},
   "outputs": [],
   "source": [
    "def calculate_average_grade(grades_dict):\n",
    "    if not grades_dict:\n",
    "        print(\"the dictionary is empty, cannot calculate the average grade\")\n",
    "        return\n",
    "        total_sum=0\n",
    "        student_count=0\n",
    "        for grade in grades_dict.values():\n",
    "            total_sum+=grades\n",
    "            student_count+=1\n",
    "            average_grade=total_sum/student_count\n",
    "            return average_grade\n",
    "    grades_dict={\n",
    "                   \"Sushmita\":85,\n",
    "                   \"Risa\":92,\n",
    "                   \"Mukta\":78,\n",
    "                   \"Bhavana\":88,\n",
    "                   \"Monika\":95\n",
    "    }\n",
    "    dictionary_average=calculate_average_grade(grade_dict)\n",
    "    if average is not None:\n",
    "        print(\"the average grade of the students is:{average}\")"
   ]
  },
  {
   "cell_type": "code",
   "execution_count": null,
   "id": "3a65d1dc-3cd5-463a-a2a6-50004e4afabb",
   "metadata": {},
   "outputs": [],
   "source": []
  }
 ],
 "metadata": {
  "kernelspec": {
   "display_name": "Python 3 (ipykernel)",
   "language": "python",
   "name": "python3"
  },
  "language_info": {
   "codemirror_mode": {
    "name": "ipython",
    "version": 3
   },
   "file_extension": ".py",
   "mimetype": "text/x-python",
   "name": "python",
   "nbconvert_exporter": "python",
   "pygments_lexer": "ipython3",
   "version": "3.12.3"
  }
 },
 "nbformat": 4,
 "nbformat_minor": 5
}
