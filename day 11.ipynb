{
 "cells": [
  {
   "cell_type": "code",
   "execution_count": 14,
   "id": "40ae277f-eb4a-459b-9bdf-4fb8cfe3d309",
   "metadata": {},
   "outputs": [
    {
     "ename": "AttributeError",
     "evalue": "'LinkedList' object has no attribute 'insert_at_beginning'",
     "output_type": "error",
     "traceback": [
      "\u001b[1;31m---------------------------------------------------------------------------\u001b[0m",
      "\u001b[1;31mAttributeError\u001b[0m                            Traceback (most recent call last)",
      "Cell \u001b[1;32mIn[14], line 53\u001b[0m\n\u001b[0;32m     50\u001b[0m     \u001b[38;5;28mprint\u001b[39m(\u001b[38;5;124m\"\u001b[39m\u001b[38;5;124mNone\u001b[39m\u001b[38;5;124m\"\u001b[39m)\n\u001b[0;32m     52\u001b[0m linked_list \u001b[38;5;241m=\u001b[39m LinkedList()\n\u001b[1;32m---> 53\u001b[0m \u001b[43mlinked_list\u001b[49m\u001b[38;5;241;43m.\u001b[39;49m\u001b[43minsert_at_beginning\u001b[49m(\u001b[38;5;241m3\u001b[39m)\n\u001b[0;32m     54\u001b[0m linked_list\u001b[38;5;241m.\u001b[39minsert_at_end(\u001b[38;5;241m1\u001b[39m)\n\u001b[0;32m     55\u001b[0m linked_list\u001b[38;5;241m.\u001b[39minsert_at_beginning(\u001b[38;5;241m2\u001b[39m)\n",
      "\u001b[1;31mAttributeError\u001b[0m: 'LinkedList' object has no attribute 'insert_at_beginning'"
     ]
    }
   ],
   "source": [
    "class Node:\n",
    "  def __init__(self, data):\n",
    "    self.data = data\n",
    "    self.next = None\n",
    "\n",
    "class LinkedList:\n",
    "  def __init__(self):\n",
    "    self.head = None\n",
    "\n",
    "def insert_at_beginning(self, data):\n",
    "    new_node = Node(data)\n",
    "    new_node.next = self.head\n",
    "    self.head = new_node\n",
    "\n",
    "def insert_at_end(self, data):\n",
    "    new_node = Node(data)\n",
    "    if self.head is None:\n",
    "      self.head = new_node\n",
    "      return\n",
    "    last_node = self.head\n",
    "    while last_node.next:\n",
    "      last_node = last_node.next\n",
    "    last_node.next = new_node\n",
    "\n",
    "def delete_from_beginning(self):\n",
    "    if self.head is None:\n",
    "      return\n",
    "    deleted_node = self.head\n",
    "    self.head = self.head.next\n",
    "    deleted_node.next = None  \n",
    "\n",
    "def delete_from_end(self):\n",
    "    if self.head is None:\n",
    "      return\n",
    "    if self.head.next is None:\n",
    "      self.head = None\n",
    "      return\n",
    "    current = self.head\n",
    "    prev = None\n",
    "    while current.next:\n",
    "      prev = current\n",
    "      current = current.next\n",
    "    prev.next = None\n",
    "\n",
    "def print_list(self):\n",
    "    current = self.head\n",
    "    while current:\n",
    "      print(current.data, end=\" -> \")\n",
    "      current = current.next\n",
    "    print(\"None\")\n",
    "\n",
    "linked_list = LinkedList()\n",
    "linked_list.insert_at_beginning(3)\n",
    "linked_list.insert_at_end(1)\n",
    "linked_list.insert_at_beginning(2)\n",
    "\n",
    "linked_list.print_list()  \n",
    "\n",
    "linked_list.delete_from_beginning()\n",
    "linked_list.delete_from_end()\n",
    "\n",
    "linked_list.print_list()  "
   ]
  },
  {
   "cell_type": "code",
   "execution_count": 11,
   "id": "1a000675-7082-42c5-af0e-4c8ab4000101",
   "metadata": {},
   "outputs": [
    {
     "name": "stdout",
     "output_type": "stream",
     "text": [
      "1 --> 2 --> 3 --> 4 --> 5 -->\n"
     ]
    }
   ],
   "source": [
    "class node:\n",
    "    def __init__(self,value):\n",
    "        self.data = value\n",
    "        self.next = None\n",
    "\n",
    "head=node(1)\n",
    "head.next=node(2)\n",
    "head.next.next=node(3)\n",
    "head.next.next.next=node(4)\n",
    "head.next.next.next.next=node(5)\n",
    "\n",
    "print(head.data,\"-->\",\n",
    "head.next.data,\"-->\",\n",
    "head.next.next.data,\"-->\",\n",
    "head.next.next.next.data,\"-->\",\n",
    "head.next.next.next.next.data,\"-->\")"
   ]
  },
  {
   "cell_type": "code",
   "execution_count": 12,
   "id": "4df3cd2d-f834-4907-a21a-fcb893a5c425",
   "metadata": {},
   "outputs": [
    {
     "name": "stdin",
     "output_type": "stream",
     "text": [
      " 0\n"
     ]
    }
   ],
   "source": [
    "x=int(input())\n",
    "temp=node(x)\n",
    "temp.next=head\n",
    "head=None\n",
    "head=temp"
   ]
  },
  {
   "cell_type": "code",
   "execution_count": 13,
   "id": "cba11db2-1ead-498f-9912-e969cf577826",
   "metadata": {},
   "outputs": [
    {
     "name": "stdout",
     "output_type": "stream",
     "text": [
      "0 --> 1 --> 2 --> 3 --> 4 -->\n"
     ]
    }
   ],
   "source": [
    "print(head.data,\"-->\",\n",
    "head.next.data,\"-->\",\n",
    "head.next.next.data,\"-->\",\n",
    "head.next.next.next.data,\"-->\",\n",
    "head.next.next.next.next.data,\"-->\")"
   ]
  },
  {
   "cell_type": "code",
   "execution_count": 14,
   "id": "2c1aee6b-f275-471b-b903-16888458e060",
   "metadata": {},
   "outputs": [
    {
     "name": "stdin",
     "output_type": "stream",
     "text": [
      " 5\n"
     ]
    }
   ],
   "source": [
    "x=int(input())\n",
    "temp=node(x)\n",
    "curr=head\n",
    "\n",
    "if curr==None:\n",
    "    head=temp\n",
    "else:\n",
    "    while curr.next!=None:\n",
    "        curr=curr.next\n",
    "    curr.next=temp\n"
   ]
  },
  {
   "cell_type": "code",
   "execution_count": 15,
   "id": "99154a47-c674-460a-ab77-91610b345361",
   "metadata": {},
   "outputs": [
    {
     "name": "stdout",
     "output_type": "stream",
     "text": [
      "0 -->1 -->2 -->3 -->4 -->5 -->5 -->"
     ]
    }
   ],
   "source": [
    "curr=head\n",
    "\n",
    "while curr!=None:\n",
    "    print(curr.data,\"-->\",end=\"\")\n",
    "    curr=curr.next\n",
    "\n"
   ]
  },
  {
   "cell_type": "code",
   "execution_count": 16,
   "id": "bf0cd7c6-b096-45fc-8710-e06788c9e7d4",
   "metadata": {},
   "outputs": [
    {
     "name": "stdin",
     "output_type": "stream",
     "text": [
      "enter the location value: 3\n",
      "enter the value: 12\n"
     ]
    }
   ],
   "source": [
    "l=int(input(\"enter the location value:\"))\n",
    "x=int(input(\"enter the value:\"))\n",
    "curr= head\n",
    "\n",
    "while curr!=None:\n",
    "    if(curr.data==l):\n",
    "        break\n",
    "    curr=curr.next\n",
    "\n",
    "temp=node(x)\n",
    "temp.next=curr.next\n",
    "curr.next=temp"
   ]
  },
  {
   "cell_type": "code",
   "execution_count": 17,
   "id": "53e59df1-f659-475d-b1c4-e345edca6a60",
   "metadata": {},
   "outputs": [
    {
     "name": "stdout",
     "output_type": "stream",
     "text": [
      "0 -->1 -->2 -->3 -->12 -->4 -->5 -->5 -->"
     ]
    }
   ],
   "source": [
    "curr=head\n",
    "\n",
    "while curr!=None:\n",
    "    print(curr.data,\"-->\",end=\"\")\n",
    "    curr=curr.next\n"
   ]
  },
  {
   "cell_type": "code",
   "execution_count": 18,
   "id": "f3627a2a-cf0e-4415-9e1d-4298e2f38883",
   "metadata": {},
   "outputs": [],
   "source": [
    "curr= head\n",
    "\n",
    "while curr!=None:\n",
    "    if(curr.data==l):\n",
    "        break\n",
    "    curr=curr.next"
   ]
  },
  {
   "cell_type": "code",
   "execution_count": 19,
   "id": "e7e5e91e-4c1e-4d4a-8e13-ae8e6c8cc119",
   "metadata": {},
   "outputs": [],
   "source": [
    "def frontdel():\n",
    "    x=int(input())\n",
    "    if head==None:\n",
    "        print(\"list is null\")\n",
    "    else:\n",
    "        temp=head\n",
    "        head=head.next\n",
    "        free(temp)"
   ]
  },
  {
   "cell_type": "code",
   "execution_count": 20,
   "id": "357a30b3-4226-4a13-8631-b25dc0022833",
   "metadata": {},
   "outputs": [],
   "source": [
    "def enddel():\n",
    "    x=int(input())\n",
    "    if head == None:\n",
    "        print(\"list is empty\")\n",
    "        if(head.next==None):\n",
    "            curr=head\n",
    "            head=None\n",
    "            free(curr)\n",
    "    else:\n",
    "        curr=head\n",
    "        while curr.next!=None:\n",
    "            prev=curr\n",
    "            curr=curr.next\n",
    "            prev.next=None\n",
    "            free(curr)\n",
    "        \n",
    "    "
   ]
  },
  {
   "cell_type": "code",
   "execution_count": 22,
   "id": "07ced196-fa1f-4ffc-b594-fcca84ac35ce",
   "metadata": {},
   "outputs": [],
   "source": [
    "if head ==None:\n",
    "    print(\"list is empty\")\n",
    "if head.next==None:\n",
    "    head=None\n",
    "curr=head\n",
    "while curr.next.next:\n",
    "    curr=curr.next\n",
    "curr.next=None"
   ]
  },
  {
   "cell_type": "code",
   "execution_count": 23,
   "id": "6586bfc9-7a05-423d-8c24-7a7bcc3a73e1",
   "metadata": {},
   "outputs": [
    {
     "name": "stdout",
     "output_type": "stream",
     "text": [
      "0 -->1 -->2 -->3 -->12 -->4 -->"
     ]
    }
   ],
   "source": [
    "curr=head\n",
    "\n",
    "while curr!=None:\n",
    "    print(curr.data,\"-->\",end=\"\")\n",
    "    curr=curr.next"
   ]
  },
  {
   "cell_type": "code",
   "execution_count": null,
   "id": "8bdc5e8e-6b89-49d4-8f7b-4587d395dff9",
   "metadata": {},
   "outputs": [],
   "source": []
  },
  {
   "cell_type": "markdown",
   "id": "1e434ecc-9d21-4203-a30f-c1d223280fbe",
   "metadata": {},
   "source": [
    "Tree:\n"
   ]
  },
  {
   "cell_type": "code",
   "execution_count": 1,
   "id": "dc8c2f8d-330f-42fd-99c0-8815abb3c4d7",
   "metadata": {},
   "outputs": [
    {
     "name": "stdout",
     "output_type": "stream",
     "text": [
      "\n",
      "preorder:\n",
      "1 2 4 5 3 6 7 \n",
      "postorder:\n",
      "2 4 5 3 6 7 1 \n",
      "inorder:\n",
      "4 2 5 1 6 3 7 \n",
      "levelorder:\n",
      "1 \n",
      "2 3 \n",
      "4 5 6 7 \n"
     ]
    }
   ],
   "source": [
    "#tree traverse\n",
    "\n",
    "class node:\n",
    "    def __init__(self,value):\n",
    "        self.data=value\n",
    "        self.left=None\n",
    "        self.right=None\n",
    "\n",
    "def preorder(root):\n",
    "    if root==None:\n",
    "        return\n",
    "    print(root.data,end=\" \")\n",
    "    preorder(root.left)\n",
    "    preorder(root.right)\n",
    "\n",
    "def postorder(root):\n",
    "    if root==None:\n",
    "        return\n",
    "    preorder(root.left)\n",
    "    preorder(root.right)\n",
    "    print(root.data,end=\" \")\n",
    "\n",
    "def inorder(root):\n",
    "    if root==None:\n",
    "        return\n",
    "    inorder(root.left)\n",
    "    print(root.data,end=\" \")\n",
    "    inorder(root.right)\n",
    "\n",
    "def levelorder(root):\n",
    "    q=[root,None]\n",
    "    while q:\n",
    "        curr=q.pop(0)\n",
    "        if curr==None:\n",
    "            print()\n",
    "            if q:\n",
    "                q.append(curr)\n",
    "        else:\n",
    "            print(curr.data,end=\" \")\n",
    "            if curr.left!=None:\n",
    "                q.append(curr.left)\n",
    "            if curr.right!=None:\n",
    "                q.append(curr.right)\n",
    "    \n",
    "root=node(1)\n",
    "root.left=node(2)\n",
    "root.right=node(3)\n",
    "\n",
    "root.left.left=node(4)\n",
    "root.left.right=node(5)\n",
    "\n",
    "root.right.left=node(6)\n",
    "root.right.right=node(7)\n",
    "\n",
    "print(\"\\npreorder:\")\n",
    "preorder(root)\n",
    "\n",
    "print(\"\\npostorder:\")\n",
    "postorder(root)\n",
    "\n",
    "print(\"\\ninorder:\")\n",
    "inorder(root)\n",
    "\n",
    "print(\"\\nlevelorder:\")\n",
    "levelorder(root)"
   ]
  },
  {
   "cell_type": "code",
   "execution_count": null,
   "id": "70b4e04a-ed2e-4e9b-a7dd-e3216bd4e404",
   "metadata": {},
   "outputs": [],
   "source": []
  }
 ],
 "metadata": {
  "kernelspec": {
   "display_name": "Python 3 (ipykernel)",
   "language": "python",
   "name": "python3"
  },
  "language_info": {
   "codemirror_mode": {
    "name": "ipython",
    "version": 3
   },
   "file_extension": ".py",
   "mimetype": "text/x-python",
   "name": "python",
   "nbconvert_exporter": "python",
   "pygments_lexer": "ipython3",
   "version": "3.12.3"
  }
 },
 "nbformat": 4,
 "nbformat_minor": 5
}
