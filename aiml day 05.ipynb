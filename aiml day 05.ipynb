{
 "cells": [
  {
   "cell_type": "code",
   "execution_count": 2,
   "id": "db53d471-b447-40ca-bc30-4115e902a5e2",
   "metadata": {},
   "outputs": [
    {
     "name": "stdin",
     "output_type": "stream",
     "text": [
      "enter the fruits name: apple ,mango, orangr, grapes\n"
     ]
    }
   ],
   "source": [
    "import os\n",
    "x=input(\"enter the fruits name:\")\n",
    "with open(\"fruit_name.txt\",'w')as f:\n",
    "    f.write(x)\n",
    "    f.close()\n",
    "    "
   ]
  },
  {
   "cell_type": "code",
   "execution_count": 3,
   "id": "9d014971-d378-48f2-bcf8-b238dfda267c",
   "metadata": {},
   "outputs": [
    {
     "ename": "AttributeError",
     "evalue": "'_io.TextIOWrapper' object has no attribute 'replace'",
     "output_type": "error",
     "traceback": [
      "\u001b[1;31m---------------------------------------------------------------------------\u001b[0m",
      "\u001b[1;31mAttributeError\u001b[0m                            Traceback (most recent call last)",
      "Cell \u001b[1;32mIn[3], line 3\u001b[0m\n\u001b[0;32m      1\u001b[0m \u001b[38;5;28;01mimport\u001b[39;00m \u001b[38;5;21;01mos\u001b[39;00m\n\u001b[0;32m      2\u001b[0m \u001b[38;5;28;01mwith\u001b[39;00m \u001b[38;5;28mopen\u001b[39m(\u001b[38;5;124m\"\u001b[39m\u001b[38;5;124mfruit_name.txt\u001b[39m\u001b[38;5;124m\"\u001b[39m,\u001b[38;5;124m'\u001b[39m\u001b[38;5;124mw\u001b[39m\u001b[38;5;124m'\u001b[39m)\u001b[38;5;28;01mas\u001b[39;00m f:\n\u001b[1;32m----> 3\u001b[0m     \u001b[43mf\u001b[49m\u001b[38;5;241;43m.\u001b[39;49m\u001b[43mreplace\u001b[49m(x[\u001b[38;5;241m4\u001b[39m])\n\u001b[0;32m      4\u001b[0m     f\u001b[38;5;241m.\u001b[39mclose()\n",
      "\u001b[1;31mAttributeError\u001b[0m: '_io.TextIOWrapper' object has no attribute 'replace'"
     ]
    }
   ],
   "source": [
    "import os\n",
    "with open(\"fruit_name.txt\",'w')as f:\n",
    "    f.replace(x[4])\n",
    "    f.close()"
   ]
  },
  {
   "cell_type": "code",
   "execution_count": 4,
   "id": "24b5e18d-740e-499a-bd3c-cd9d0192b023",
   "metadata": {},
   "outputs": [
    {
     "name": "stdout",
     "output_type": "stream",
     "text": [
      "this laptop have i5 8gm 1tb ssd\n"
     ]
    }
   ],
   "source": [
    "class laptop:\n",
    "    def config(self):\n",
    "        print(\"this laptop have i5 8gm 1tb ssd\")\n",
    "\n",
    "hp=laptop()\n",
    "\n",
    "hp.config()"
   ]
  },
  {
   "cell_type": "code",
   "execution_count": 12,
   "id": "7f56be4f-1c7c-4444-ab0b-4eca28c9cddf",
   "metadata": {},
   "outputs": [],
   "source": [
    "class laptop:\n",
    "    a=0\n",
    "    def config(self):\n",
    "        print(\"this laptop have i5 8gm 1tb ssd\")\n",
    "\n",
    "def __init__(self,value):\n",
    "     self.b=value\n",
    "\n",
    "     acer = laptop(20)\n",
    "\n",
    "     print(acer.a)\n",
    "     print(acer.b)"
   ]
  },
  {
   "cell_type": "code",
   "execution_count": 19,
   "id": "89e77f9a-5d5c-4834-8ee3-2cb2a5771000",
   "metadata": {},
   "outputs": [
    {
     "ename": "IndentationError",
     "evalue": "unindent does not match any outer indentation level (<string>, line 8)",
     "output_type": "error",
     "traceback": [
      "\u001b[1;36m  File \u001b[1;32m<string>:8\u001b[1;36m\u001b[0m\n\u001b[1;33m    asus=laptop\u001b[0m\n\u001b[1;37m               ^\u001b[0m\n\u001b[1;31mIndentationError\u001b[0m\u001b[1;31m:\u001b[0m unindent does not match any outer indentation level\n"
     ]
    }
   ],
   "source": [
    "##create a laptop class ,with variablr as processor ram and storage,create function to print the configuration of the laptops.\n",
    "##create 3 objects of laptop with different brand and display its configuration.\n",
    "\n",
    "class laptop:\n",
    "    def config(self):\n",
    "        print(\"this laptop has i5,8gb and 1Tb ssd\")\n",
    "        \n",
    "  asus=laptop\n",
    "  asus.config()\n"
   ]
  },
  {
   "cell_type": "code",
   "execution_count": 10,
   "id": "eae19c44-c7c5-425d-9737-12f1d5f655a6",
   "metadata": {},
   "outputs": [
    {
     "name": "stdout",
     "output_type": "stream",
     "text": [
      "configuration of the laptop is:\n",
      "processor i5\n",
      "ram 8\n",
      "storage 512\n"
     ]
    }
   ],
   "source": [
    "class laptop:\n",
    "    def __init__(self,p,r,s):\n",
    "        self.processor=p\n",
    "        self.ram=r\n",
    "        self.storage=s\n",
    "\n",
    "    def config(self):\n",
    "        print(\"configuration of the laptop is:\")\n",
    "        print(\"processor\",self.processor)\n",
    "        print(\"ram\",self.ram)\n",
    "        print(\"storage\",self.storage)\n",
    "\n",
    "if __name__==\"__main__\":\n",
    "    hp = laptop(\"i5\",8,512)\n",
    "    \n",
    "    hp . config()"
   ]
  },
  {
   "cell_type": "code",
   "execution_count": 21,
   "id": "444a838b-dc7a-4bc9-857a-9c1a03aeb804",
   "metadata": {},
   "outputs": [],
   "source": [
    "##create a class student which can hold the marks in 5 subjects and also create a functions to print the marks and calculate the average of 5 subjects.\n",
    "class student:\n",
    "    def __init__(self,p,ch,m,b,c):\n",
    "        self.physics=p\n",
    "        self.chem=ch\n",
    "        self.maths=m\n",
    "        self.bio=b\n",
    "        self.cs=c\n",
    "\n",
    "    def marks(self):\n",
    "        print(\"enter the marks of 5 sunject:\")\n",
    "    \n",
    "\n",
    "    def marks():\n",
    "        print(\"enter marks in 5 subject :\")\n",
    "        print(\"physics\",self.physics)\n",
    "        print(\"chem\",self.chem)\n",
    "        print(\"maths\",self.math)\n",
    "        print(\"bio\",self.bio)\n",
    "        print(\"cs\",self.cs)\n",
    "\n",
    "    \n",
    "    "
   ]
  },
  {
   "cell_type": "code",
   "execution_count": null,
   "id": "3e980597-a8db-4ffc-b07c-f27255235537",
   "metadata": {},
   "outputs": [],
   "source": [
    "class demo:\n",
    "    def __init__(self,a,b,c):\n",
    "        self.x=a\n",
    "        self._y=b\n",
    "        self.__z=c\n",
    "        \n",
    "    def output_z(self):\n",
    "        print(self,__z)\n",
    "        \n",
    "    def output_y(self):\n",
    "        print(self,__y)\n",
    "         \n",
    "    def output_x(self):\n",
    "        print(self,__x)\n",
    "\n",
    "\n",
    "ob1=demo(1,2,3)\n",
    "ob1.output_x()\n",
    "ob1.output_y()\n",
    "ob1.output_z()\n",
    "\n"
   ]
  },
  {
   "cell_type": "code",
   "execution_count": 3,
   "id": "0043783f-4381-448e-a582-99dfe4dc796b",
   "metadata": {},
   "outputs": [
    {
     "name": "stdout",
     "output_type": "stream",
     "text": [
      "this is fun1\n",
      "this is fun2\n",
      "this is fun3\n",
      "this is fun4\n",
      "this is fun1\n"
     ]
    }
   ],
   "source": [
    "class a:\n",
    "    def fun1(self):\n",
    "        print(\"this is fun1\")\n",
    "    \n",
    "    def fun2(self):\n",
    "        print(\"this is fun2\")\n",
    "\n",
    "class b(a):\n",
    "    def fun3(self):\n",
    "        print(\"this is fun3\")\n",
    "    \n",
    "    def fun4(self):\n",
    "        print(\"this is fun4\")\n",
    "\n",
    "class c(a):\n",
    "    def fun5(self):\n",
    "        print(\"this is fun5\")\n",
    "    \n",
    "    def fun6(self):\n",
    "        print(\"this is fun6\")\n",
    "        \n",
    "if __name__==\"__main__\":\n",
    "    ob1=a()\n",
    "    ob2=b()\n",
    "    ob3=c()\n",
    "\n",
    "    ob1.fun1()\n",
    "    ob1.fun2()\n",
    "    ob2.fun3()\n",
    "    ob2.fun4()\n",
    "    ob3.fun1()"
   ]
  },
  {
   "cell_type": "code",
   "execution_count": 12,
   "id": "a481e642-d5f9-4914-8aca-0de319a775a3",
   "metadata": {},
   "outputs": [
    {
     "ename": "IndentationError",
     "evalue": "expected an indented block after 'if' statement on line 17 (899746729.py, line 18)",
     "output_type": "error",
     "traceback": [
      "\u001b[1;36m  Cell \u001b[1;32mIn[12], line 18\u001b[1;36m\u001b[0m\n\u001b[1;33m    ob1.c()\u001b[0m\n\u001b[1;37m    ^\u001b[0m\n\u001b[1;31mIndentationError\u001b[0m\u001b[1;31m:\u001b[0m expected an indented block after 'if' statement on line 17\n"
     ]
    }
   ],
   "source": [
    "class a:\n",
    "    def __init__(self):\n",
    "        print(\"the constructor class A\")\n",
    "\n",
    "class b:\n",
    "    def __init__(self):\n",
    "        print(\"the constructor class B\")\n",
    "\n",
    "class c:\n",
    "    def __init__(self):\n",
    "        print(\"the constructor class C\")\n",
    "\n",
    "class d:\n",
    "    def __init__(self):\n",
    "        print(\"the constructor class D\")\n",
    "\n",
    "if __name__==\"__main__\":\n",
    "ob1.c()\n",
    "    "
   ]
  },
  {
   "cell_type": "code",
   "execution_count": 5,
   "id": "f2c94e7d-d086-482a-9425-0925ca65e5ab",
   "metadata": {},
   "outputs": [
    {
     "name": "stdout",
     "output_type": "stream",
     "text": [
      "constructor of class c\n",
      "constructor of class c with 1 5\n",
      "constructor of class c with 1 2\n"
     ]
    }
   ],
   "source": [
    "class c:\n",
    "    def __init__(self):\n",
    "        print(\"constructor of class c\")\n",
    "\n",
    "    def abc(self,a,b=5):\n",
    "        print(\"constructor of class c with\",a,b)\n",
    "\n",
    "ob=c()\n",
    "ob.abc(1)\n",
    "ob.abc(1,2)"
   ]
  },
  {
   "cell_type": "code",
   "execution_count": 9,
   "id": "3c7cf0ab-6de9-4d52-9fb9-fbdb11c3ebfe",
   "metadata": {},
   "outputs": [
    {
     "name": "stdout",
     "output_type": "stream",
     "text": [
      "constructor of class c\n",
      "5 10\n"
     ]
    }
   ],
   "source": [
    "class c:\n",
    "    def __init__(self,a=20,b=10):\n",
    "        print(\"constructor of class c\")\n",
    "        self.x=a\n",
    "        self.y=b\n",
    "        print(self.x,self.y)\n",
    "\n",
    "ob=c(5)"
   ]
  },
  {
   "cell_type": "code",
   "execution_count": 1,
   "id": "b499d687-1c3f-49c3-ac64-62cf4b3d1886",
   "metadata": {},
   "outputs": [
    {
     "ename": "TypeError",
     "evalue": "gaming_laptop.__init__() missing 1 required positional argument: 's'",
     "output_type": "error",
     "traceback": [
      "\u001b[1;31m---------------------------------------------------------------------------\u001b[0m",
      "\u001b[1;31mTypeError\u001b[0m                                 Traceback (most recent call last)",
      "Cell \u001b[1;32mIn[1], line 20\u001b[0m\n\u001b[0;32m     15\u001b[0m         \u001b[38;5;28msuper\u001b[39m()\u001b[38;5;241m.\u001b[39m\u001b[38;5;21m__init__\u001b[39m(p,r,s,b)\n\u001b[0;32m     18\u001b[0m pro1\u001b[38;5;241m=\u001b[39mprofessional_laptop(\u001b[38;5;124m\"\u001b[39m\u001b[38;5;124m6hr\u001b[39m\u001b[38;5;124m\"\u001b[39m,\u001b[38;5;124m\"\u001b[39m\u001b[38;5;124mi5\u001b[39m\u001b[38;5;124m\"\u001b[39m,\u001b[38;5;241m8\u001b[39m,\u001b[38;5;241m512\u001b[39m)\n\u001b[1;32m---> 20\u001b[0m gam1\u001b[38;5;241m=\u001b[39m\u001b[43mgaming_laptop\u001b[49m\u001b[43m(\u001b[49m\u001b[38;5;124;43m\"\u001b[39;49m\u001b[38;5;124;43m2gb\u001b[39;49m\u001b[38;5;124;43m\"\u001b[39;49m\u001b[43m,\u001b[49m\u001b[38;5;124;43m\"\u001b[39;49m\u001b[38;5;124;43mi5\u001b[39;49m\u001b[38;5;124;43m\"\u001b[39;49m\u001b[43m,\u001b[49m\u001b[38;5;241;43m8\u001b[39;49m\u001b[43m,\u001b[49m\u001b[38;5;241;43m512\u001b[39;49m\u001b[43m)\u001b[49m\n\u001b[0;32m     22\u001b[0m \u001b[38;5;28mprint\u001b[39m(\u001b[38;5;124m\"\u001b[39m\u001b[38;5;124mprofessional laptop having\u001b[39m\u001b[38;5;124m\"\u001b[39m,pro1\u001b[38;5;241m.\u001b[39mprocessor,pro1\u001b[38;5;241m.\u001b[39mram,pro1\u001b[38;5;241m.\u001b[39mstorage,pro1\u001b[38;5;241m.\u001b[39mbattery)\n\u001b[0;32m     23\u001b[0m \u001b[38;5;28mprint\u001b[39m(\u001b[38;5;124m\"\u001b[39m\u001b[38;5;124mgaming la[top having\u001b[39m\u001b[38;5;124m\"\u001b[39m,gam1\u001b[38;5;241m.\u001b[39mprocessor,gam1\u001b[38;5;241m.\u001b[39mram,gam1\u001b[38;5;241m.\u001b[39mstorage,gam1\u001b[38;5;241m.\u001b[39mbattery,gam1\u001b[38;5;241m.\u001b[39mgraphic)\n",
      "\u001b[1;31mTypeError\u001b[0m: gaming_laptop.__init__() missing 1 required positional argument: 's'"
     ]
    }
   ],
   "source": [
    "class laptop():\n",
    "    def __init__(self,p,r,s):\n",
    "        self.processor=p\n",
    "        self.ram=r\n",
    "        self.storage=s\n",
    "\n",
    "class professional_laptop(laptop):\n",
    "    def __init__(self,b,p,r,s):\n",
    "        self.battery=b\n",
    "        super().__init__(p,r,s)\n",
    "\n",
    "class gaming_laptop(professional_laptop):\n",
    "    def __init__(self,g,b,p,r,s):\n",
    "        self.graphic=g\n",
    "        super().__init__(p,r,s,b)\n",
    "        \n",
    "\n",
    "pro1=professional_laptop(\"6hr\",\"i5\",8,512)\n",
    "\n",
    "gam1=gaming_laptop(\"2gb\",\"i5\",8,512)\n",
    "\n",
    "print(\"professional laptop having\",pro1.processor,pro1.ram,pro1.storage,pro1.battery)\n",
    "print(\"gaming la[top having\",gam1.processor,gam1.ram,gam1.storage,gam1.battery,gam1.graphic)\n",
    "\n",
    "\n",
    "    \n",
    "    \n"
   ]
  },
  {
   "cell_type": "code",
   "execution_count": 5,
   "id": "57717b6d-d509-4a7c-b0ed-2146a7df1067",
   "metadata": {},
   "outputs": [
    {
     "name": "stdout",
     "output_type": "stream",
     "text": [
      "Ticket booked Fare Price will be:  3250\n"
     ]
    }
   ],
   "source": [
    "#write a program to demonstrate the working of a railway ticket booking.\n",
    "#create required classes like|ticket class|general class|sleeper class|ac ticket|first class ticket\n",
    "#show the use of inheritance in this and create  a proper ticket booking model for indian railway.\n",
    "#after booking the ticket you have to show the final ticket price to the customer.\n",
    "#consider only 3 source and destination as |A500kms |B 600kms |C 400kms\n",
    "#booking charges:50|distance charges:2/kms|\n",
    "#sleeper changes:2/km| AC charges:4/kms |first class charges:5/kms\n",
    "\n",
    "class ticket:\n",
    "    \n",
    "    def __init__(self,D):\n",
    "        self.distance=int(D)\n",
    "        self.farePrice=None\n",
    "        \n",
    "class gen(ticket):\n",
    "    def _init_(self,D):\n",
    "        super()._init_(D)\n",
    "    def print_ticket(self):\n",
    "        self.farePrice=50+(self.distance*2)\n",
    "        return self.farePrice\n",
    "        \n",
    "\n",
    "\n",
    "class slp(gen):\n",
    "    def _init_(self,D):\n",
    "        super()._init_(D)\n",
    "\n",
    "    def print_ticket(self):\n",
    "        self.farePrice=super().print_ticket()+(2*self.distance)\n",
    "        return self.farePrice\n",
    "\n",
    "class AC(slp):\n",
    "    def _init_(self,D):\n",
    "        super()._init_(D)\n",
    "    def print_ticket(self):\n",
    "        self.farePrice=super().print_ticket()+(4*self.distance)\n",
    "        return self.farePrice\n",
    "\n",
    "class FC(AC):\n",
    "    def _init_(self,D):\n",
    "        super()._init_(D)\n",
    "    def print_ticket(self):\n",
    "        self.farePrice=super().print_ticket()+(5*self.distance)\n",
    "        return self.farePrice\n",
    "\n",
    "\n",
    "jur = AC(400)\n",
    "print(\"Ticket booked Fare Price will be: \",jur.print_ticket())      \n",
    "    \n",
    "    \n",
    "\n"
   ]
  },
  {
   "cell_type": "code",
   "execution_count": null,
   "id": "38f2f3de-3a79-4da4-a529-4ceeff380273",
   "metadata": {},
   "outputs": [],
   "source": []
  }
 ],
 "metadata": {
  "kernelspec": {
   "display_name": "Python 3 (ipykernel)",
   "language": "python",
   "name": "python3"
  },
  "language_info": {
   "codemirror_mode": {
    "name": "ipython",
    "version": 3
   },
   "file_extension": ".py",
   "mimetype": "text/x-python",
   "name": "python",
   "nbconvert_exporter": "python",
   "pygments_lexer": "ipython3",
   "version": "3.12.3"
  }
 },
 "nbformat": 4,
 "nbformat_minor": 5
}
