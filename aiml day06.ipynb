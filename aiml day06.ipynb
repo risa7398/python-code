{
 "cells": [
  {
   "cell_type": "code",
   "execution_count": 14,
   "id": "fcfeab19-31de-4fe0-89ba-d6a26ac1fabd",
   "metadata": {},
   "outputs": [
    {
     "name": "stdout",
     "output_type": "stream",
     "text": [
      "normal vehicle having: D05551 7lc red 1498cc\n",
      "car is of: jeep 5 seater 180km/hr KA7676 10lc black 2489cc\n",
      "truck is having: 4 10tons UP5790 7lc blue 5660cc\n"
     ]
    }
   ],
   "source": [
    "class vehicle:\n",
    "    def __init__(self,p,pr,col,en):\n",
    "        self.plate=p\n",
    "        self.price=pr\n",
    "        self.color=col\n",
    "        self.engine=en\n",
    "\n",
    "class car(vehicle):\n",
    "    def __init__(self,t,passengers,ms,p,pr,col,en):\n",
    "        self.type=t\n",
    "        self.no_passengers=passengers\n",
    "        self.max_speed=ms\n",
    "        super().__init__(p,pr,col,en)\n",
    "\n",
    "class truck(vehicle):\n",
    "    def __init__(self,ax,lc,p,pr,col,en):\n",
    "        self.axle=ax\n",
    "        self.load_capacity=lc\n",
    "        super().__init__(p,pr,col,en)\n",
    "\n",
    "#if __name__==\"__main__\":\n",
    "    \n",
    "    a=vehicle(\"D05551\" ,\"7lc\",\"red\",\"1498cc\")\n",
    "    b=car(\"jeep\",\"5 seater\",\"180km/hr\",\"KA7676\",\"10lc\",\"black\",\"2489cc\")\n",
    "    c=truck(4,\"10tons\",\"UP5790\",\"7lc\",\"blue\",\"5660cc\" )\n",
    "\n",
    "\n",
    "\n",
    "print(\"normal vehicle having:\",a.plate,a.price,a.color,a.engine)\n",
    "print(\"car is of:\",b.type,b.no_passengers,b.max_speed,b.plate,b.price,b.color,b.engine)\n",
    "print(\"truck is having:\",c.axle,c.load_capacity,c.plate,c.price,c.color,c.engine)"
   ]
  },
  {
   "cell_type": "code",
   "execution_count": 15,
   "id": "8ecdfe8d-6a8b-45f6-96fe-51462a5081ea",
   "metadata": {},
   "outputs": [
    {
     "name": "stdout",
     "output_type": "stream",
     "text": [
      "staffs are: EC mumbai 3865 akash 40000\n",
      "developers are: tx2 software customer 3962 mukta 35000\n",
      "manager are: python customer 7956 raj 70000\n"
     ]
    }
   ],
   "source": [
    "class employee:\n",
    "    def __init__(self,Eid,Ename,Esalary):\n",
    "        self.x=Eid\n",
    "        self.y=Ename\n",
    "        self.z=Esalary\n",
    "\n",
    "class staff(employee):\n",
    "    def __init__(self,worktype,workarea,Eid,Ename,Esalary):\n",
    "        self.t=worktype\n",
    "        self.a=workarea\n",
    "        super().__init__(Eid,Ename,Esalary)\n",
    "\n",
    "class developer(employee):\n",
    "    def __init__(self,module,tech,experience,Eid,Ename,Esalary):\n",
    "        self.m=module\n",
    "        self.te=tech\n",
    "        self.e=experience\n",
    "        super().__init__(Eid,Ename,Esalary)\n",
    "\n",
    "class manager(employee):\n",
    "    def __init__(self,project,client,Eid,Ename,Esalary):\n",
    "        self.p=project\n",
    "        self.c=client\n",
    "        super().__init__(Eid,Ename,Esalary)\n",
    "\n",
    "ob1=staff(\"EC\",\"mumbai\",3865,\"akash\",40000)\n",
    "ob2=developer(\"tx2\",\"software\",\"customer\",3962,\"mukta\",35000)\n",
    "ob3=manager(\"python\",\"customer\",7956,\"raj\",70000)\n",
    "\n",
    "print(\"staffs are:\",ob1.t,ob1.a,ob1.x,ob1.y,ob1.z)\n",
    "print(\"developers are:\",ob2.m,ob2.te,ob2.e,ob2.x,ob2.y,ob2.z)\n",
    "print(\"manager are:\",ob3.p,ob3.c,ob3.x,ob3.y,ob3.z)"
   ]
  },
  {
   "cell_type": "code",
   "execution_count": 1,
   "id": "4b71575f-8409-4e2f-b4ef-34003b8c5fd7",
   "metadata": {},
   "outputs": [
    {
     "name": "stdout",
     "output_type": "stream",
     "text": [
      "* * * * * * \n",
      "* * * * * * \n",
      "* * * * * * \n",
      "* * * * * * \n",
      "* * * * * * \n",
      "* * * * * * \n"
     ]
    }
   ],
   "source": [
    "for i in range(0,6):\n",
    "    for j in range(0,6):\n",
    "        print(\"*\",end=\" \")\n",
    "    print()"
   ]
  },
  {
   "cell_type": "code",
   "execution_count": 2,
   "id": "a14eaee3-b288-478f-959b-647a454f78ba",
   "metadata": {},
   "outputs": [
    {
     "name": "stdout",
     "output_type": "stream",
     "text": [
      "* \n",
      "* * \n",
      "* * * \n",
      "* * * * \n",
      "* * * * * \n"
     ]
    }
   ],
   "source": [
    "for i in range(0,5):\n",
    "    for j in range(0,i+1):\n",
    "        print(\"*\",end=\" \")\n",
    "\n",
    "    print()"
   ]
  },
  {
   "cell_type": "code",
   "execution_count": 16,
   "id": "65a497da-5b9a-44e4-867e-795d8f07a289",
   "metadata": {},
   "outputs": [
    {
     "name": "stdout",
     "output_type": "stream",
     "text": [
      "* * * * \n",
      "* * * \n",
      "* * \n",
      "* \n"
     ]
    }
   ],
   "source": [
    "for i in range(4,0,-1):\n",
    "    for j in range(0,i):\n",
    "        print(\"*\",end=\" \")\n",
    "    print()    "
   ]
  },
  {
   "cell_type": "code",
   "execution_count": 15,
   "id": "aff8ace4-76ed-4487-8986-abc73fbe1346",
   "metadata": {},
   "outputs": [
    {
     "name": "stdout",
     "output_type": "stream",
     "text": [
      "1 0 1 \n",
      "1 0 1 1 0 1 \n",
      "1 0 1 1 0 1 1 0 1 \n",
      "1 0 1 1 0 1 1 0 1 1 0 1 \n",
      "1 0 1 1 0 1 1 0 1 1 0 1 1 0 1 \n"
     ]
    }
   ],
   "source": [
    "for i in range(0,5):\n",
    "    for j in range(0,i+1):\n",
    "        print(\"1\",\"0 1\",end=\" \")\n",
    "    print() "
   ]
  },
  {
   "cell_type": "code",
   "execution_count": 20,
   "id": "f0fb4ed9-c296-4123-b402-797bdd1048b3",
   "metadata": {},
   "outputs": [
    {
     "name": "stdout",
     "output_type": "stream",
     "text": [
      ". . . . . . . . \n",
      ". . . . . . . \n",
      ". . . . . . \n",
      ". . . . . \n",
      ". . . . \n",
      ". . . \n",
      ". . \n",
      ". \n"
     ]
    }
   ],
   "source": [
    "for i in range(8,0,-1):\n",
    "    for j in range(0,i):\n",
    "        print(\".\",end=\" \")\n",
    "    print() "
   ]
  },
  {
   "cell_type": "code",
   "execution_count": 2,
   "id": "eb525b02-9ade-4541-bdf5-fa00ac35997a",
   "metadata": {},
   "outputs": [
    {
     "name": "stdout",
     "output_type": "stream",
     "text": [
      "\n",
      ". \n",
      ". . \n",
      ". . . \n",
      ". . . . \n",
      ". . . . . \n",
      ". . . . . . \n",
      ". . . . . . . \n"
     ]
    }
   ],
   "source": [
    "for i in range(0,8):\n",
    "    for j in range(0,i):\n",
    "        print(\".\",end=\" \")\n",
    "    print()"
   ]
  },
  {
   "cell_type": "code",
   "execution_count": 24,
   "id": "9ddb91ef-c289-4b6d-921c-30c78e76d0a2",
   "metadata": {},
   "outputs": [
    {
     "name": "stdout",
     "output_type": "stream",
     "text": [
      "* * * * * * \n",
      "  * * * * * \n",
      "    * * * * \n",
      "      * * * \n",
      "        * * \n",
      "          * \n"
     ]
    }
   ],
   "source": [
    "for i in range(0,6):\n",
    "    for j in range(0,6):\n",
    "        if j>=i:\n",
    "            print(\"*\",end=\" \")\n",
    "        else:\n",
    "            print(\" \",end=\" \") \n",
    "    \n",
    "    print()"
   ]
  },
  {
   "cell_type": "code",
   "execution_count": 27,
   "id": "8aa1e9e0-ac8b-40b4-84ea-f3625db2e30a",
   "metadata": {},
   "outputs": [
    {
     "name": "stdout",
     "output_type": "stream",
     "text": [
      "*           \n",
      "* *         \n",
      "* * *       \n",
      "* * * *     \n",
      "* * * * *   \n",
      "* * * * * * \n"
     ]
    }
   ],
   "source": [
    "for i in range(0,6):\n",
    "    for j in range(0,6):\n",
    "        if j<=i:\n",
    "            print(\"*\",end=\" \")\n",
    "        else:\n",
    "            print(\" \",end=\" \") \n",
    "    \n",
    "    print()"
   ]
  },
  {
   "cell_type": "code",
   "execution_count": 1,
   "id": "d9473384-2e5b-4583-8d33-79fff8b7cde9",
   "metadata": {},
   "outputs": [
    {
     "name": "stdout",
     "output_type": "stream",
     "text": [
      "1 \n",
      "1 2 \n",
      "1 2 3 \n",
      "1 2 3 4 \n",
      "1 2 3 4 5 \n"
     ]
    }
   ],
   "source": [
    "def number_pyramid(rows):\n",
    "  for i in range(1, rows + 1):\n",
    "    for j in range(1, i + 1):\n",
    "      print(j, end=\" \")\n",
    "    print()\n",
    "\n",
    "rows = 5\n",
    "number_pyramid(rows)"
   ]
  },
  {
   "cell_type": "code",
   "execution_count": 2,
   "id": "e236a7c8-80ce-443a-bfa1-f08b8afcb805",
   "metadata": {},
   "outputs": [
    {
     "name": "stdout",
     "output_type": "stream",
     "text": [
      "1 2 3 4 5 \n",
      "1 2 3 4 \n",
      "1 2 3 \n",
      "1 2 \n",
      "1 \n"
     ]
    }
   ],
   "source": [
    "def inverted_number_pyramid(rows):\n",
    "  for i in range(rows, 0, -1):\n",
    "    for j in range(1, i + 1):\n",
    "      print(j, end=\" \")\n",
    "    print()\n",
    "\n",
    "rows = 5\n",
    "inverted_number_pyramid(rows)"
   ]
  },
  {
   "cell_type": "code",
   "execution_count": 20,
   "id": "45cc9e4a-aa7b-4e7f-9dd5-0b644b7addce",
   "metadata": {},
   "outputs": [
    {
     "name": "stdout",
     "output_type": "stream",
     "text": [
      "* * * * * * * * * \n",
      " * * * * * * * \n",
      "  * * * * * \n",
      "   * * * \n",
      "    * \n"
     ]
    }
   ],
   "source": [
    "def inverted_full_pyramid(n):\n",
    "    for i in range(n, 0, -1):\n",
    "        for j in range(n - i):\n",
    "            print(\" \", end=\"\")\n",
    "        for k in range(2*i - 1):\n",
    "            print(\"*\", end=\" \")\n",
    "        print(\"\\r\")\n",
    " \n",
    "n = 5\n",
    "inverted_full_pyramid(n)"
   ]
  },
  {
   "cell_type": "code",
   "execution_count": 9,
   "id": "9148378a-0c11-480f-84cf-e4bbfe459847",
   "metadata": {},
   "outputs": [
    {
     "name": "stdout",
     "output_type": "stream",
     "text": [
      "    * \n",
      "   * * \n",
      "  * * * \n",
      " * * * * \n",
      "* * * * * \n",
      " * * * * \n",
      "  * * * \n",
      "   * * \n",
      "    * \n"
     ]
    }
   ],
   "source": [
    "def print_diamond(rows):\n",
    "    for i in range(1, rows + 1):\n",
    "        print(\" \" * (rows - i), end=\"\")\n",
    "        print(\"* \" * i)\n",
    "\n",
    "    for i in range(rows - 1, 0, -1):\n",
    "        print(\" \" * (rows - i), end=\"\")\n",
    "        print(\"* \" * i)\n",
    "\n",
    "rows = 5\n",
    "print_diamond(rows)"
   ]
  },
  {
   "cell_type": "code",
   "execution_count": 10,
   "id": "328aa582-c719-4317-b01d-5361166aa89c",
   "metadata": {},
   "outputs": [
    {
     "name": "stdin",
     "output_type": "stream",
     "text": [
      "Enter the size of the square:  7\n"
     ]
    },
    {
     "name": "stdout",
     "output_type": "stream",
     "text": [
      "* * * * * * * \n",
      "*           * \n",
      "*           * \n",
      "*           * \n",
      "*           * \n",
      "*           * \n",
      "* * * * * * * \n"
     ]
    }
   ],
   "source": [
    "def hollow_square_pattern(n):\n",
    "    for i in range(n):\n",
    "        for j in range(n):\n",
    "            if i == 0 or i == n - 1 or j == 0 or j == n - 1:\n",
    "                print(\"*\", end=\" \")\n",
    "            else:\n",
    "                print(\" \", end=\" \")\n",
    "        print()\n",
    "\n",
    "size = int(input(\"Enter the size of the square: \"))\n",
    "hollow_square_pattern(size)"
   ]
  },
  {
   "cell_type": "code",
   "execution_count": 11,
   "id": "be1f3625-6b1d-4c46-a025-83e01ee5afab",
   "metadata": {},
   "outputs": [
    {
     "name": "stdin",
     "output_type": "stream",
     "text": [
      "Enter the number of rows for the diamond pattern:  10\n"
     ]
    },
    {
     "name": "stdout",
     "output_type": "stream",
     "text": [
      "         *\n",
      "        * *\n",
      "       *   *\n",
      "      *     *\n",
      "     *       *\n",
      "    *         *\n",
      "   *           *\n",
      "  *             *\n",
      " *               *\n",
      "*                 *\n",
      " *               *\n",
      "  *             *\n",
      "   *           *\n",
      "    *         *\n",
      "     *       *\n",
      "      *     *\n",
      "       *   *\n",
      "        * *\n",
      "         *\n"
     ]
    }
   ],
   "source": [
    "def print_diamond(rows):\n",
    "    for i in range(1, rows + 1):\n",
    "        for j in range(1, rows - i + 1):\n",
    "            print(\" \", end=\"\")\n",
    "        for j in range(1, 2 * i):\n",
    "            if j == 1 or j == 2 * i - 1:\n",
    "                print(\"*\", end=\"\")\n",
    "            else:\n",
    "                print(\" \", end=\"\")\n",
    "        print()\n",
    "\n",
    "    for i in range(rows - 1, 0, -1):\n",
    "        for j in range(1, rows - i + 1):\n",
    "            print(\" \", end=\"\")\n",
    "        for j in range(1, 2 * i):\n",
    "            if j == 1 or j == 2 * i - 1:\n",
    "                print(\"*\", end=\"\")\n",
    "            else:\n",
    "                print(\" \", end=\"\")\n",
    "        print()\n",
    "\n",
    "\n",
    "rows = int(input(\"Enter the number of rows for the diamond pattern: \"))\n",
    "print_diamond(rows)"
   ]
  },
  {
   "cell_type": "code",
   "execution_count": 12,
   "id": "b89bfef6-18bd-4a3c-ac01-0c11ef63a7fd",
   "metadata": {},
   "outputs": [
    {
     "name": "stdin",
     "output_type": "stream",
     "text": [
      "Enter the number of rows:  8\n"
     ]
    },
    {
     "name": "stdout",
     "output_type": "stream",
     "text": [
      "       *       \n",
      "      * *      \n",
      "     *   *     \n",
      "    *     *    \n",
      "   *       *   \n",
      "  *         *  \n",
      " *           * \n",
      "***************\n"
     ]
    }
   ],
   "source": [
    "def print_hollow_triangle(rows):\n",
    "    for i in range(rows):\n",
    "        for j in range(rows*2-1):\n",
    "            if i == rows - 1 or j == rows - i - 1 or j == rows + i - 1:\n",
    "                print(\"*\", end=\"\")\n",
    "            else:\n",
    "                print(\" \", end=\"\")\n",
    "        print()\n",
    "\n",
    "rows = int(input(\"Enter the number of rows: \"))\n",
    "print_hollow_triangle(rows)\n"
   ]
  },
  {
   "cell_type": "code",
   "execution_count": 13,
   "id": "f7142213-fc40-477b-99e4-bf94b72949dc",
   "metadata": {},
   "outputs": [
    {
     "name": "stdout",
     "output_type": "stream",
     "text": [
      "*********\n",
      " *     *\n",
      "  *   *\n",
      "   * *\n",
      "    *\n"
     ]
    }
   ],
   "source": [
    "def reverse_triangle_pattern(rows):\n",
    "    for i in range(rows, 0, -1):\n",
    "        for j in range(rows - i):\n",
    "            print(\" \", end=\"\")\n",
    "        \n",
    "        if i == 1 or i == rows:\n",
    "            for j in range(2 * i - 1):\n",
    "                print(\"*\", end=\"\")\n",
    "        else:\n",
    "            print(\"*\", end=\"\")\n",
    "            for j in range(2 * i - 3):\n",
    "                print(\" \", end=\"\")\n",
    "            print(\"*\", end=\"\")\n",
    "        \n",
    "        print()\n",
    "\n",
    "rows = 5\n",
    "reverse_triangle_pattern(rows)\n"
   ]
  },
  {
   "cell_type": "code",
   "execution_count": 14,
   "id": "56636427-a842-4d8c-aec3-090ac9d14172",
   "metadata": {},
   "outputs": [
    {
     "name": "stdin",
     "output_type": "stream",
     "text": [
      "Enter the number of rows:  8\n"
     ]
    },
    {
     "name": "stdout",
     "output_type": "stream",
     "text": [
      "********\n",
      " *     *\n",
      "  *    *\n",
      "   *   *\n",
      "    *  *\n",
      "     * *\n",
      "      **\n",
      "       *\n"
     ]
    }
   ],
   "source": [
    "def print_mirror_triangle(rows):\n",
    "    for i in range(1, rows + 1):\n",
    "        for _ in range(1, i):\n",
    "            print(\" \", end=\"\")\n",
    "        for _ in range(i, rows + 1):\n",
    "            if i == 1 or i == rows or _ == i or _ == rows:\n",
    "                print(\"*\", end=\"\")\n",
    "            else:\n",
    "                print(\" \", end=\"\")\n",
    "        print()\n",
    "\n",
    "rows = int(input(\"Enter the number of rows: \"))\n",
    "print_mirror_triangle(rows)\n"
   ]
  },
  {
   "cell_type": "code",
   "execution_count": 16,
   "id": "5d36e805-d3b0-4ef8-8568-4e2c2c4ccb0a",
   "metadata": {},
   "outputs": [
    {
     "name": "stdin",
     "output_type": "stream",
     "text": [
      "Enter the number of rows:  8\n"
     ]
    },
    {
     "name": "stdout",
     "output_type": "stream",
     "text": [
      "       *\n",
      "      **\n",
      "     ***\n",
      "    ****\n",
      "   *****\n",
      "  ******\n",
      " *******\n",
      "********\n"
     ]
    }
   ],
   "source": [
    "def mirror_triangle(n):\n",
    "    for i in range(1, n + 1):\n",
    "        print(\" \" * (n - i) + \"*\" * i)\n",
    "\n",
    "n = int(input(\"Enter the number of rows: \"))\n",
    "mirror_triangle(n)\n"
   ]
  },
  {
   "cell_type": "code",
   "execution_count": 19,
   "id": "0fcea19f-e1c3-44d3-99ae-9a88619c68cb",
   "metadata": {},
   "outputs": [
    {
     "name": "stdin",
     "output_type": "stream",
     "text": [
      "Enter the number of rows:  4\n"
     ]
    },
    {
     "name": "stdout",
     "output_type": "stream",
     "text": [
      "    1 \n",
      "   1 1 \n",
      "  1 2 1 \n",
      " 1 3 3 1 \n"
     ]
    }
   ],
   "source": [
    "def pascals_triangle(rows):\n",
    "  for i in range(rows):\n",
    "    print(\" \" * (rows - i), end=\"\")\n",
    "\n",
    "    coeff = 1\n",
    "    for j in range(i + 1):\n",
    "      print(coeff, end=\" \")\n",
    "      coeff = coeff * (i - j) // (j + 1)\n",
    "\n",
    "    print()\n",
    "\n",
    "rows = int(input(\"Enter the number of rows: \"))\n",
    "pascals_triangle(rows)"
   ]
  },
  {
   "cell_type": "code",
   "execution_count": 21,
   "id": "6eb3df9b-1200-4df8-be18-57c36fc2ddd9",
   "metadata": {},
   "outputs": [
    {
     "name": "stdin",
     "output_type": "stream",
     "text": [
      "Enter the size of the hollow hourglass pattern:  6\n"
     ]
    },
    {
     "name": "stdout",
     "output_type": "stream",
     "text": [
      "***********\n",
      " *       *\n",
      "  *     *\n",
      "   *   *\n",
      "    * *\n",
      "     *\n",
      "    * *\n",
      "   *   *\n",
      "  *     *\n",
      " *       *\n",
      "***********\n"
     ]
    }
   ],
   "source": [
    "def print_hollow_hourglass_pattern(n):\n",
    "    for i in range(n, 0, -1):\n",
    "        for j in range(n - i):\n",
    "            print(\" \", end=\"\")\n",
    "        for j in range(2 * i - 1):\n",
    "            if j == 0 or j == 2 * i - 2 or i == n:\n",
    "                print(\"*\", end=\"\")\n",
    "            else:\n",
    "                print(\" \", end=\"\")\n",
    "        print()\n",
    "    for i in range(2, n + 1):\n",
    "        for j in range(n - i):\n",
    "            print(\" \", end=\"\")\n",
    "        for j in range(2 * i - 1):\n",
    "            if j == 0 or j == 2 * i - 2 or i == n:\n",
    "                print(\"*\", end=\"\")\n",
    "            else:\n",
    "                print(\" \", end=\"\")\n",
    "        print()\n",
    "\n",
    "n = int(input(\"Enter the size of the hollow hourglass pattern: \"))\n",
    "print_hollow_hourglass_pattern(n)\n"
   ]
  },
  {
   "cell_type": "code",
   "execution_count": 22,
   "id": "9504a9fc-ac12-484b-bffd-6eef2a188b15",
   "metadata": {},
   "outputs": [
    {
     "name": "stdout",
     "output_type": "stream",
     "text": [
      "1 4 6 4 1 \n",
      " 1 3 3 1 \n",
      "  1 2 1 \n",
      "   1 1 \n",
      "    1 \n"
     ]
    }
   ],
   "source": [
    "def print_reverse_pascals_triangle(rows):\n",
    "    triangle = []\n",
    "    for i in range(rows):\n",
    "        row = []\n",
    "        for j in range(i+1):\n",
    "            if j == 0 or j == i:\n",
    "                row.append(1)\n",
    "            else:\n",
    "                row.append(triangle[i-1][j-1] + triangle[i-1][j])\n",
    "        triangle.append(row)\n",
    "\n",
    "    for i in range(rows-1, -1, -1):\n",
    "        print(\" \" * (rows - i - 1), end=\"\")\n",
    "        for j in range(len(triangle[i])):\n",
    "            print(triangle[i][j], end=\" \")\n",
    "        print()\n",
    "\n",
    "rows = 5\n",
    "print_reverse_pascals_triangle(rows)\n"
   ]
  },
  {
   "cell_type": "code",
   "execution_count": null,
   "id": "beb0bf96-3592-43f3-b9e0-ad0aee4ee7fe",
   "metadata": {},
   "outputs": [],
   "source": []
  }
 ],
 "metadata": {
  "kernelspec": {
   "display_name": "Python 3 (ipykernel)",
   "language": "python",
   "name": "python3"
  },
  "language_info": {
   "codemirror_mode": {
    "name": "ipython",
    "version": 3
   },
   "file_extension": ".py",
   "mimetype": "text/x-python",
   "name": "python",
   "nbconvert_exporter": "python",
   "pygments_lexer": "ipython3",
   "version": "3.12.3"
  }
 },
 "nbformat": 4,
 "nbformat_minor": 5
}
