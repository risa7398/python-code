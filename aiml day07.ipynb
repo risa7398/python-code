{
 "cells": [
  {
   "cell_type": "markdown",
   "id": "0d24e743-d1df-4c2d-aec8-32672a8196ae",
   "metadata": {},
   "source": [
    "time complexity(big-O,omega,theta)\n",
    "types:\n",
    "* constant\n",
    "* linear\n",
    "* quadratic\n",
    "* exponential\n",
    "* factorial(biggest / worst time complexity)\n",
    "\n",
    "space complexity: \n",
    "* constant space\n",
    "* linear space"
   ]
  },
  {
   "cell_type": "code",
   "execution_count": 1,
   "id": "06cfbae7-e88a-4728-8ed7-af101e8b7d6f",
   "metadata": {},
   "outputs": [
    {
     "name": "stdout",
     "output_type": "stream",
     "text": [
      "19\n"
     ]
    }
   ],
   "source": [
    "#list[2,4,6,1,3,7,6,9,3,6,8,3,6,4,1,3,9,6,4,5,6,8,3,7,3,6,8]\n",
    "#find the max sum of any 3 consecutive elements of this array\n",
    "\n",
    "l=[2,4,6,1,3,7,4,6,9,3,6,8,3,6,4,1,3,9,6,4,5,6,8,3,7,3,6,8]\n",
    "max=0\n",
    "for i in range(0,len(l)-2):\n",
    "    sum=l[i]+l[i+1]+l[i+2]\n",
    "    if(max<sum):\n",
    "        max=sum\n",
    "\n",
    "print(max)\n",
    "    \n",
    "    \n"
   ]
  },
  {
   "cell_type": "code",
   "execution_count": 14,
   "id": "11dbfc9a-d27d-4d15-8d7c-4621960c6afb",
   "metadata": {},
   "outputs": [
    {
     "name": "stdout",
     "output_type": "stream",
     "text": [
      "63\n"
     ]
    }
   ],
   "source": [
    "l=[2,4,6,1,3,7,4,6,9,3,6,8,3,6,4,1,3,9,6,4,5,6,8,3,7,3,6,8,4,6,2,9,4,6,0,3,5,8,5,9,2,5,7,5,9,5,6,7,5,6,3,8,5,9,2,0,4,3,7,4,1,8,6,5,7]\n",
    "max=0\n",
    "for i in range(0,len(l)-9):\n",
    "    sum=l[i]+l[i+1]+l[i+2]+l[i+3]+l[i+4]+l[i+5]+l[i+6]+l[i+7]+l[i+8]+l[i+9]\n",
    "    if(max<sum):\n",
    "        max=sum\n",
    "\n",
    "print(max)"
   ]
  },
  {
   "cell_type": "code",
   "execution_count": 18,
   "id": "cbb59c7e-33b3-41a9-8ba5-b0c6c5856f6c",
   "metadata": {},
   "outputs": [
    {
     "name": "stdin",
     "output_type": "stream",
     "text": [
      "enter the consecutive: 15\n"
     ]
    },
    {
     "name": "stdout",
     "output_type": "stream",
     "text": [
      "45\n"
     ]
    }
   ],
   "source": [
    "l=[2,4,6,1,3,7,4,6,9,3,6,8,3,6,4,1,3,9,6,4,5,6,8,3,7,3,6,8,4,6,2,9,4,6,0,3,5,8,5,9,2,5,7,5,9,5,6,7,5,6,3,8,5,9,2,0,4,3,7,4,1,8,6,5,7]\n",
    "max=0\n",
    "con=int(input(\"enter the consecutive:\"))\n",
    "for i in range(0,len(l)-con):\n",
    "    s=0\n",
    "    for j in range(0,con):\n",
    "        if(max<sum):\n",
    "            max=sum\n",
    "\n",
    "print(max)"
   ]
  },
  {
   "cell_type": "code",
   "execution_count": 20,
   "id": "3a34f2cc-1fdc-4460-bab9-6437965c2d82",
   "metadata": {},
   "outputs": [
    {
     "name": "stdin",
     "output_type": "stream",
     "text": [
      "enter the consecutive: 3\n"
     ]
    },
    {
     "name": "stdout",
     "output_type": "stream",
     "text": [
      "45\n"
     ]
    }
   ],
   "source": [
    "l=[2,4,6,1,3,7,4,6,9,3,6,8,3,6,4,1,3,9,6,4,5,6,8,3,7,3,6,8,4,6,2,9,4,6,0,3,5,8,5,9,2,5,7,5,9,5,6,7,5,6,3,8,5,9,2,0,4,3,7,4,1,8,6,5,7]\n",
    "max=0\n",
    "con=int(input(\"enter the consecutive:\"))\n",
    "for i in range(0,len(l)-con):\n",
    "    s=0\n",
    "    if(max<sum):\n",
    "        max=sum\n",
    "\n",
    "print(max)"
   ]
  },
  {
   "cell_type": "code",
   "execution_count": 1,
   "id": "d203cab5-de69-4e02-93b4-de458a43369f",
   "metadata": {},
   "outputs": [
    {
     "name": "stdout",
     "output_type": "stream",
     "text": [
      "[1, 2, 3, 4, 5, 6, 7, 8, 9]\n"
     ]
    }
   ],
   "source": [
    "l=[3,5,2,6,7,4,8,1,9]\n",
    "l.sort()\n",
    "print(l)"
   ]
  },
  {
   "cell_type": "code",
   "execution_count": 2,
   "id": "949e597d-c52f-4759-adaf-6f754363e691",
   "metadata": {},
   "outputs": [
    {
     "name": "stdout",
     "output_type": "stream",
     "text": [
      "[9, 8, 7, 6, 5, 4, 3, 2, 1]\n"
     ]
    }
   ],
   "source": [
    "l=[3,5,2,6,7,4,8,1,9]\n",
    "l.sort(reverse=True)\n",
    "print(l)"
   ]
  },
  {
   "cell_type": "code",
   "execution_count": null,
   "id": "de3f66c8-e6b1-45a0-a704-7231aeadd077",
   "metadata": {},
   "outputs": [],
   "source": [
    "l=[3,5,2,6,7,4,8,1,9]\n",
    "l.sort()\n",
    "print(l)"
   ]
  },
  {
   "cell_type": "code",
   "execution_count": 7,
   "id": "606d7e50-4612-4c7d-ab61-6ed45d8f5ad7",
   "metadata": {},
   "outputs": [
    {
     "name": "stdout",
     "output_type": "stream",
     "text": [
      "Sorted list: [1, 2, 3, 4, 5, 6, 7, 8, 9]\n"
     ]
    }
   ],
   "source": [
    "def bubble_sort(l):\n",
    "    n = len(l)\n",
    "    for i in range(n):\n",
    "        for j in range(0, n-i-1):\n",
    "            if l[j] > l[j+1]:\n",
    "                l[j], l[j+1] = l[j+1], l[j]\n",
    "\n",
    "l = [3,5,2,6,7,4,8,1,9]\n",
    "bubble_sort(l)\n",
    "print(\"Sorted list:\",l)"
   ]
  },
  {
   "cell_type": "code",
   "execution_count": 4,
   "id": "5649c488-63c1-4a39-9f49-a62a9505961b",
   "metadata": {},
   "outputs": [
    {
     "name": "stdout",
     "output_type": "stream",
     "text": [
      "Sorted list: [1, 2, 3, 4, 5, 6, 7, 8, 9]\n"
     ]
    }
   ],
   "source": [
    "l=[3,5,2,6,7,4,8,1,9]\n",
    "n = len(l)\n",
    "\n",
    "for i in range(n):\n",
    "        for j in range(0, n-i-1):\n",
    "            if l[j] > l[j+1]:\n",
    "                l[j], l[j+1] = l[j+1], l[j]\n",
    "\n",
    "print(\"Sorted list:\",l)"
   ]
  },
  {
   "cell_type": "code",
   "execution_count": 6,
   "id": "9be38cb5-be66-4e12-86be-513655d67b9e",
   "metadata": {},
   "outputs": [
    {
     "name": "stdout",
     "output_type": "stream",
     "text": [
      "[1, 2, 3, 4, 5, 6, 7, 8, 9]\n"
     ]
    }
   ],
   "source": [
    "arr=[3,5,2,6,7,4,8,1,9]\n",
    "for i in range(0,len(arr)):\n",
    "    for j in range(0,len(arr)-1):\n",
    "        if arr[j]>arr[j+1]:\n",
    "            temp=arr[j]\n",
    "            arr[j]=arr[j+1]\n",
    "            arr[j+1]=temp\n",
    "\n",
    "print(arr)\n",
    "    "
   ]
  },
  {
   "cell_type": "code",
   "execution_count": null,
   "id": "4853202d-1792-4f37-83b4-8121388bc16b",
   "metadata": {},
   "outputs": [],
   "source": []
  }
 ],
 "metadata": {
  "kernelspec": {
   "display_name": "Python 3 (ipykernel)",
   "language": "python",
   "name": "python3"
  },
  "language_info": {
   "codemirror_mode": {
    "name": "ipython",
    "version": 3
   },
   "file_extension": ".py",
   "mimetype": "text/x-python",
   "name": "python",
   "nbconvert_exporter": "python",
   "pygments_lexer": "ipython3",
   "version": "3.12.3"
  }
 },
 "nbformat": 4,
 "nbformat_minor": 5
}
