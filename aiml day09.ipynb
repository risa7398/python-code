{
 "cells": [
  {
   "cell_type": "code",
   "execution_count": 1,
   "id": "7b4ba995-fe39-4e48-af94-62cc387482b9",
   "metadata": {},
   "outputs": [
    {
     "name": "stdout",
     "output_type": "stream",
     "text": [
      "I ma yrgnuh\n"
     ]
    }
   ],
   "source": [
    "def reverse(sentence):\n",
    "    return ' '.join(word[::-1] for word in sentence.split(\" \"))\n",
    "sentence=\"I am hungry\"\n",
    "print(reverse(sentence))"
   ]
  },
  {
   "cell_type": "code",
   "execution_count": 6,
   "id": "1160bdf7-81ca-4ac3-a575-06a76cdfdff3",
   "metadata": {},
   "outputs": [
    {
     "name": "stdout",
     "output_type": "stream",
     "text": [
      "item added to stack\n",
      "item added to stack\n",
      "item added to stack\n",
      "item added to stack\n",
      "['A', 'B', 'C', 'D']\n",
      "item is reversed in the stack\n",
      "None\n"
     ]
    }
   ],
   "source": [
    "def add(e):\n",
    "    s.append(e)\n",
    "    print(\"item added to stack\")\n",
    "\n",
    "def reverse(s):\n",
    "    s.reverse()\n",
    "    print(\"item is reversed in the stack\")\n",
    "\n",
    "s=[]\n",
    "add('A')\n",
    "add('B')\n",
    "add('C')\n",
    "add('D')\n",
    "print(s)\n",
    "\n",
    "print(reverse(s))"
   ]
  },
  {
   "cell_type": "code",
   "execution_count": 10,
   "id": "d2492bc6-6a85-42e6-a5bb-a6e95040076b",
   "metadata": {},
   "outputs": [
    {
     "name": "stdin",
     "output_type": "stream",
     "text": [
      " this is a car\n"
     ]
    },
    {
     "name": "stdout",
     "output_type": "stream",
     "text": [
      "rac a si siht"
     ]
    }
   ],
   "source": [
    "a=input()\n",
    "s=[]\n",
    "for e in a:\n",
    "    s.append(e)\n",
    "\n",
    "while len(s)>0:\n",
    "    print(s.pop(),end=\"\")"
   ]
  },
  {
   "cell_type": "code",
   "execution_count": 12,
   "id": "b190fa9e-0f7f-4b9e-87e4-3172055b50ec",
   "metadata": {},
   "outputs": [
    {
     "name": "stdin",
     "output_type": "stream",
     "text": [
      " this is a car\n"
     ]
    },
    {
     "name": "stdout",
     "output_type": "stream",
     "text": [
      "car a is this\n"
     ]
    }
   ],
   "source": [
    "a=input()\n",
    "word_list=a.split()\n",
    "reversed_list=word_list[:: -1]\n",
    "reversed_a=\" \".join(reversed_list)\n",
    "print(reversed_a)"
   ]
  },
  {
   "cell_type": "code",
   "execution_count": 16,
   "id": "b1b78665-5bec-4544-a0f5-f01fba4e5c48",
   "metadata": {},
   "outputs": [
    {
     "name": "stdin",
     "output_type": "stream",
     "text": [
      " this is a car\n"
     ]
    },
    {
     "name": "stdout",
     "output_type": "stream",
     "text": [
      "car a is this "
     ]
    }
   ],
   "source": [
    "#using stack\n",
    "a=input()\n",
    "s=[]\n",
    "for e in a.split():\n",
    "    s.append(e)\n",
    "\n",
    "while len(s)>0:\n",
    "    print(s.pop(),end=' ')\n",
    "    \n"
   ]
  },
  {
   "cell_type": "markdown",
   "id": "1e756482-27d0-438f-a03c-ab34c118dc9f",
   "metadata": {},
   "source": [
    "converting from infix to postfix\n",
    "# rules:\n",
    "* identify the character like operator,operand,brackets.\n",
    "* if it is a operator push it into the stack.\n",
    "* if it is a operand keep  it into the list/somewere.\n",
    "* if there is a close brackets then all the operator until the open bracket will bi poped out.\n",
    "* we have to check the priorities of the operator.\n",
    "* operator precedence: (+,-), (*,/),(^)\n",
    "* priorities:\n",
    "* (+,-)=1\n",
    "* (*,/)=2\n",
    "* (^)=3"
   ]
  },
  {
   "cell_type": "code",
   "execution_count": 2,
   "id": "8fe50a27-852e-4b61-b120-9c9092ccf15f",
   "metadata": {},
   "outputs": [
    {
     "name": "stdin",
     "output_type": "stream",
     "text": [
      " (a+b)*c\n"
     ]
    },
    {
     "name": "stdout",
     "output_type": "stream",
     "text": [
      " ab+c*\n"
     ]
    }
   ],
   "source": [
    "#infix to postfix\n",
    "def prec(e):\n",
    "    if e==\"^\":\n",
    "        return 3\n",
    "    elif e==\"*\" or e==\"/\":\n",
    "        return 2\n",
    "    elif e==\"+\" or e==\"-\":\n",
    "        return 1\n",
    "    else:\n",
    "        return -1\n",
    "def asoc(e):\n",
    "    if  e==\"^\":\n",
    "        return 'R'\n",
    "    else:\n",
    "        return'L'\n",
    "\n",
    "   \n",
    "exp=input()\n",
    "    if e.isalnum():\n",
    "        result+=e\n",
    "    elif e=='(':\n",
    "        s.append(e)\n",
    "    elif e==')':\n",
    "        while s[-1]!='(':\n",
    "            result+=s.pop()\n",
    "\n",
    "        s.pop()\n",
    "    else:\n",
    "        while s and (prec(e)<prec(s[-1]) or(prec(e)==prec(s[-1]) and asoc(e)=='L')):\n",
    "            result +=s.pop()\n",
    "        s.append(e)\n",
    "\n",
    "while s:\n",
    "    result+=s.pop()\n",
    "print(result)        \n",
    "        \n",
    "        \n",
    "    \n"
   ]
  },
  {
   "cell_type": "markdown",
   "id": "8ea4f07b-4038-47b4-b564-a1d0d7f128f0",
   "metadata": {},
   "source": [
    "* In a arcade game,once upon a time there is a king who got splled by a witch that whenever he eat,he have to take care of what is sequence of \n",
    "his food intake.\n",
    "* if he eats similar food one after other it will cancel out the its effect and total energy was decreased.\n",
    "your task is to deteraine the total energy of the king his meal\n",
    "ex:\n",
    " [\"apple\",\"dal\",\"chapati\",\"rice\",\"rice\",\"apple\",\"apple\",\"dal\",\"rice\",\"dal\",\"chapati\",\"chapati\"]\n",
    "* consider that energy released by each time will be same which is 1 unit.\n",
    "* so the total energy intake is 6 unit as per above example.\n",
    "* write a code to find the energy stored by the king after have all the food\n",
    "[\"apple\",\"dal\",\"chapati\",\"dal\",\"rice\",\"dal\"]\n",
    "* write a code to find the energy stored by the king after have all the food.\n"
   ]
  },
  {
   "cell_type": "code",
   "execution_count": 5,
   "id": "b8a6254b-dcd9-4f33-82cf-5f240adecc93",
   "metadata": {},
   "outputs": [
    {
     "name": "stdin",
     "output_type": "stream",
     "text": [
      " A D C R R A A D R D C C\n"
     ]
    },
    {
     "name": "stdout",
     "output_type": "stream",
     "text": [
      "['A', 'D', 'C', 'R', 'R', 'A', 'A', 'D', 'R', 'D', 'C', 'C']\n",
      "6 ['A', 'D', 'C', 'D', 'R', 'D']\n"
     ]
    }
   ],
   "source": [
    "a=[item for item in input().split()]\n",
    "print(a)\n",
    "s=[]\n",
    "for item in a:\n",
    "    if not s:\n",
    "        s.append(item)\n",
    "    elif s[-1]==item:\n",
    "        s.pop()\n",
    "    else:\n",
    "        s.append(item)\n",
    "        \n",
    "\n",
    "print(len(s),s)\n",
    "    \n"
   ]
  },
  {
   "cell_type": "code",
   "execution_count": 6,
   "id": "d8e737d0-dbba-44fd-a5e8-56459e2d2ec2",
   "metadata": {},
   "outputs": [
    {
     "name": "stdin",
     "output_type": "stream",
     "text": [
      " [\"apple\",\"dal\",\"chapati\",\"rice\",\"rice\",\"apple\",\"apple\",\"dal\",\"rice\",\"dal\",\"chapati\",\"chapati\"]\n"
     ]
    },
    {
     "name": "stdout",
     "output_type": "stream",
     "text": [
      "['[\"apple\",\"dal\",\"chapati\",\"rice\",\"rice\",\"apple\",\"apple\",\"dal\",\"rice\",\"dal\",\"chapati\",\"chapati\"]']\n",
      "1 ['[\"apple\",\"dal\",\"chapati\",\"rice\",\"rice\",\"apple\",\"apple\",\"dal\",\"rice\",\"dal\",\"chapati\",\"chapati\"]']\n"
     ]
    }
   ],
   "source": [
    "a=[item for item in input().split()]\n",
    "print(a)\n",
    "s=[]\n",
    "for item in a:\n",
    "    if not s:\n",
    "        s.append(item)\n",
    "    elif s[-1]==item:\n",
    "        s.pop()\n",
    "    else:\n",
    "        s.append(item)\n",
    "        \n",
    "\n",
    "print(len(s),s)\n",
    "    \n"
   ]
  },
  {
   "cell_type": "code",
   "execution_count": 12,
   "id": "77923ce9-afb2-4b42-b405-d205c1fe37ed",
   "metadata": {},
   "outputs": [
    {
     "name": "stdin",
     "output_type": "stream",
     "text": [
      " {{{(}})\n"
     ]
    },
    {
     "name": "stdout",
     "output_type": "stream",
     "text": [
      "unbalanced string\n"
     ]
    }
   ],
   "source": [
    "s=input()\n",
    "S=[]\n",
    "for e in s:\n",
    "    if e=='('or e=='{' or e=='{':\n",
    "        S.append(e)\n",
    "    elif (e==')' and S[-1]=='(') or (e=='}' and S[-1]=='{') or (e==']' and S[-1]=='['):\n",
    "        S.pop()\n",
    "    else:\n",
    "        continue\n",
    "\n",
    "if not S:\n",
    "    print(\"balanced string\")\n",
    "else:\n",
    "    print(\"unbalanced string\") "
   ]
  },
  {
   "cell_type": "code",
   "execution_count": 2,
   "id": "f20878ef-0a7d-4cc7-9519-cccd41a7564c",
   "metadata": {},
   "outputs": [
    {
     "name": "stdout",
     "output_type": "stream",
     "text": [
      "5\n",
      "4\n",
      "3\n",
      "2\n",
      "1\n",
      "None\n"
     ]
    }
   ],
   "source": [
    "def fun(x):\n",
    "    if x==0:\n",
    "        return\n",
    "    print(x)\n",
    "    return fun(x-1)\n",
    "\n",
    "print(fun(5))"
   ]
  },
  {
   "cell_type": "code",
   "execution_count": null,
   "id": "e29a21b6-f43b-45c4-a0c1-ded9ccc3171e",
   "metadata": {},
   "outputs": [],
   "source": []
  }
 ],
 "metadata": {
  "kernelspec": {
   "display_name": "Python 3 (ipykernel)",
   "language": "python",
   "name": "python3"
  },
  "language_info": {
   "codemirror_mode": {
    "name": "ipython",
    "version": 3
   },
   "file_extension": ".py",
   "mimetype": "text/x-python",
   "name": "python",
   "nbconvert_exporter": "python",
   "pygments_lexer": "ipython3",
   "version": "3.12.3"
  }
 },
 "nbformat": 4,
 "nbformat_minor": 5
}
